{
  "nbformat": 4,
  "nbformat_minor": 0,
  "metadata": {
    "colab": {
      "provenance": []
    },
    "kernelspec": {
      "name": "python3",
      "display_name": "Python 3"
    },
    "language_info": {
      "name": "python"
    }
  },
  "cells": [
    {
      "cell_type": "code",
      "execution_count": null,
      "metadata": {
        "colab": {
          "base_uri": "https://localhost:8080/"
        },
        "id": "RthGBgbPbydH",
        "outputId": "3479ce72-4811-4c44-e76e-074b6117a57d"
      },
      "outputs": [
        {
          "output_type": "stream",
          "name": "stdout",
          "text": [
            "class\n"
          ]
        }
      ],
      "source": [
        "#Perform XML Parsing on Student information XML.\n",
        " \n",
        "#Python code to illustrate parsing of XML files\n",
        "# importing the required modules\n",
        "import csv\n",
        "import requests\n",
        "import xml.dom.minidom\n",
        "import xml.etree.ElementTree as ET\n",
        "\n",
        "mytree = ET.parse('/content/drive/MyDrive/Python_File/Student.xml')\n",
        "myroot = mytree.getroot()\n",
        "\n",
        "#use the parse function to load the xml file\n",
        "#doc = xml.dom.minidom.parse(\"/content/drive/MyDrive/Python_File/Student.xml\");\n",
        "\n",
        "#print document node and name\n",
        "print(myroot.tag) \n"
      ]
    },
    {
      "cell_type": "code",
      "source": [
        "import xml.etree.ElementTree as ET\n",
        "data = '''<?xml version=\"1.0\" encoding=\"UTF-8\"?>\n",
        "<?xml-stylesheet type='text/xsl' href='cgpa.xsl'?> \n",
        "<class>\n",
        "<student>\n",
        "<name> ABC </name>\n",
        "<id> 001 </id>\n",
        "<branch> IT </branch>\n",
        "<cgpa> 9 </cgpa>\n",
        "</student>\n",
        "</class>'''\n",
        "myroot = ET.fromstring(data)\n",
        "print(myroot.tag)\n",
        "print(myroot[0].tag)\n",
        "print(myroot[0].attrib)\n",
        "for x in myroot[0]:\n",
        "  print(x.tag,x.attrib)\n",
        "for x in myroot[0]:\n",
        "  print(x.text)"
      ],
      "metadata": {
        "id": "gp4JB5N8cMD-"
      },
      "execution_count": null,
      "outputs": []
    },
    {
      "cell_type": "code",
      "source": [
        "for x in myroot.findall('student'):\n",
        "  name=x.find('name').text\n",
        "  id=x.find('id').text\n",
        "  print(name,id)\n",
        "  "
      ],
      "metadata": {
        "colab": {
          "base_uri": "https://localhost:8080/"
        },
        "id": "UworjOVwcNP8",
        "outputId": "8e775edf-e708-4027-cd93-a81bc463a30b"
      },
      "execution_count": null,
      "outputs": [
        {
          "output_type": "stream",
          "name": "stdout",
          "text": [
            " ABC   001 \n",
            " PQR   004 \n",
            " XYZ   006 \n"
          ]
        }
      ]
    },
    {
      "cell_type": "code",
      "source": [
        "#Parse HTML for Major Cities Temp information from https://mausam.imd.gov.in/.\n"
      ],
      "metadata": {
        "id": "1h7NIZCkcUYv"
      },
      "execution_count": null,
      "outputs": []
    }
  ]
}