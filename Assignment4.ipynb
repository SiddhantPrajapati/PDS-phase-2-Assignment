{
  "nbformat": 4,
  "nbformat_minor": 0,
  "metadata": {
    "colab": {
      "provenance": []
    },
    "kernelspec": {
      "name": "python3",
      "display_name": "Python 3"
    },
    "language_info": {
      "name": "python"
    }
  },
  "cells": [
    {
      "cell_type": "code",
      "execution_count": null,
      "metadata": {
        "id": "vzBEqcwpSgJa",
        "colab": {
          "base_uri": "https://localhost:8080/"
        },
        "outputId": "0263fb04-f526-44ab-984f-73563618d8bd"
      },
      "outputs": [
        {
          "output_type": "stream",
          "name": "stdout",
          "text": [
            "Mounted at /content/gdrive\n"
          ]
        }
      ],
      "source": [
        "#create txt file using python\n",
        "from google.colab import drive\n",
        "drive.mount('/content/drive')\n"
      ]
    },
    {
      "cell_type": "code",
      "source": [
        "import pandas as pd\n",
        "import matplotlib.pyplot as plt\n",
        "with open('/content/gdrive/MyDrive/India_GDP_Data.csv','r') as f:\n",
        "  df= pd.read_csv('/content/gdrive/MyDrive/India_GDP_Data.csv')\n",
        "  df.plot(x='Year',y='Per_Capita_in_USD')\n",
        "  df.plot(x='Year',y='GDP_In_Billion_USD')\n",
        "  plt.xlim(xmin=2000)\n",
        "  plt.ylim(ymin=100)\n",
        "  plt.ylabel('Per_Capita_in_USD')\n",
        "  plt.show()\n"
      ],
      "metadata": {
        "colab": {
          "base_uri": "https://localhost:8080/",
          "height": 541
        },
        "id": "rbH-1wjrC3MM",
        "outputId": "511c818b-e66a-4e6c-977d-070c5d2595e9"
      },
      "execution_count": null,
      "outputs": [
        {
          "output_type": "display_data",
          "data": {
            "text/plain": [
              "<Figure size 432x288 with 1 Axes>"
            ],
            "image/png": "[encoded data removed]"
          },
          "metadata": {
            "needs_background": "light"
          }
        },
        {
          "output_type": "display_data",
          "data": {
            "text/plain": [
              "<Figure size 432x288 with 1 Axes>"
            ],
            "image/png": "[encoded data removed]"
          },
          "metadata": {
            "needs_background": "light"
          }
        }
      ]
    },
    {
      "cell_type": "code",
      "source": [
        "#file write operation\n",
        "with open('color.txt','w') as f:\n",
        "  for i in range(0,9):\n",
        "    f.write(input())\n",
        "  f.close"
      ],
      "metadata": {
        "colab": {
          "base_uri": "https://localhost:8080/"
        },
        "id": "dm6KIRd7bBFX",
        "outputId": "d140aa4a-f7c5-42bf-888f-c51cad147b1c"
      },
      "execution_count": null,
      "outputs": [
        {
          "name": "stdout",
          "output_type": "stream",
          "text": [
            "color,code\n",
            "red,1\n",
            "blue,2\n",
            "green,3\n",
            "violet,4\n",
            "white,5\n",
            "yellow,6\n",
            "pink,7\n",
            "brown,8\n"
          ]
        }
      ]
    },
    {
      "cell_type": "code",
      "source": [
        "#use pandas to create data frame from txt file\n",
        "import pandas as pd\n",
        "color=pd.io.parsers.read_table(\"/content/color.txt\",header=0,sep=\",\")\n",
        "print(color)"
      ],
      "metadata": {
        "colab": {
          "base_uri": "https://localhost:8080/"
        },
        "id": "F-dEY0IKYWk-",
        "outputId": "0d6fa7e5-e00d-41e8-be3f-1d84141d5a36"
      },
      "execution_count": null,
      "outputs": [
        {
          "output_type": "stream",
          "name": "stdout",
          "text": [
            "    color  code\n",
            "0     red     1\n",
            "1    blue     2\n",
            "2   green     3\n",
            "3  violet     4\n",
            "4   white     5\n",
            "5  yellow     6\n",
            "6    pink     7\n",
            "7   brown     8\n"
          ]
        }
      ]
    },
    {
      "cell_type": "code",
      "source": [
        "#file read operation\n",
        "with open('color.txt','rb') as f:\n",
        "  for i in f:\n",
        "    print(i)"
      ],
      "metadata": {
        "colab": {
          "base_uri": "https://localhost:8080/"
        },
        "id": "OXzM58l13_Z4",
        "outputId": "c64e47c4-3c97-4191-b5f8-b32851c7cbd6"
      },
      "execution_count": null,
      "outputs": [
        {
          "output_type": "stream",
          "name": "stdout",
          "text": [
            "b'color,code\\n'\n",
            "b'red,1\\n'\n",
            "b'blue,2\\n'\n",
            "b'green,3\\n'\n",
            "b'violet,4\\n'\n",
            "b'white,5\\n'\n",
            "b'yellow,6\\n'\n",
            "b'pink,7\\n'\n",
            "b'brown,8\\n'\n"
          ]
        }
      ]
    },
    {
      "cell_type": "code",
      "source": [
        "import pandas as pd\n",
        "import matplotlib.pyplot as plt\n",
        "with open('/content/drive/MyDrive/India_GDP_Data.csv','r') as f:\n",
        "  df= pd.read_csv('/content/gdrive/MyDrive/India_GDP_Data.csv')\n",
        "  print(df)"
      ],
      "metadata": {
        "id": "rJeR4Xir4t_a",
        "colab": {
          "base_uri": "https://localhost:8080/"
        },
        "outputId": "e974cc37-c0f3-45f2-c1ed-c4f719e977dc"
      },
      "execution_count": null,
      "outputs": [
        {
          "output_type": "stream",
          "name": "stdout",
          "text": [
            "    Year  GDP_In_Billion_USD  Per_Capita_in_USD  Percentage_Growth \n",
            "0   2021             3173.40               2277                8.95\n",
            "1   2020             2667.69               1933               -6.60\n",
            "2   2019             2831.55               2072                3.74\n",
            "3   2018             2702.93               1998                6.45\n",
            "4   2017             2651.47               1981                6.80\n",
            "..   ...                 ...                ...                 ...\n",
            "56  1965               59.55                119               -2.64\n",
            "57  1964               56.48                116                7.45\n",
            "58  1963               48.42                101                5.99\n",
            "59  1962               42.16                 90                2.93\n",
            "60  1961               39.23                 85                3.72\n",
            "\n",
            "[61 rows x 4 columns]\n"
          ]
        }
      ]
    },
    {
      "cell_type": "code",
      "source": [
        "#Find the duplicate records in student information.\n",
        "import pandas as pd\n",
        "df=pd.read_csv('/content/drive/MyDrive/Python_File/Student.csv')\n",
        "dfObj=pd.DataFrame(df)\n",
        "print(dfObj)\n",
        "duplicate=dfObj[dfObj.duplicated()]\n",
        "print(\"\\n\",duplicate)"
      ],
      "metadata": {
        "colab": {
          "base_uri": "https://localhost:8080/"
        },
        "id": "LyoFzbmaeSh0",
        "outputId": "aa8877d6-8073-4c36-f183-31478e823109"
      },
      "execution_count": 8,
      "outputs": [
        {
          "output_type": "stream",
          "name": "stdout",
          "text": [
            "  s_name  s_id  age\n",
            "0   aman  1234   13\n",
            "1   rita  5432   12\n",
            "2  priya  6532   14\n",
            "3   aman  1234   13\n",
            "4  radhe  9876   15\n",
            "5   nita  5431   15\n",
            "\n",
            "   s_name  s_id  age\n",
            "3   aman  1234   13\n"
          ]
        }
      ]
    },
    {
      "cell_type": "code",
      "source": [
        "import pandas as pd\n",
        "train=pd.read_csv('/content/drive/MyDrive/Python_File/train.csv')\n",
        "df = pd.DataFrame(train)\n",
        "df"
      ],
      "metadata": {
        "colab": {
          "base_uri": "https://localhost:8080/",
          "height": 991
        },
        "id": "eCDzPfhUfi-3",
        "outputId": "fea4ba15-bd97-4db2-9518-d74d0fd06fc5"
      },
      "execution_count": 5,
      "outputs": [
        {
          "output_type": "execute_result",
          "data": {
            "text/plain": [
              "     PassengerId  Survived  Pclass  \\\n",
              "0              1         0       3   \n",
              "1              2         1       1   \n",
              "2              3         1       3   \n",
              "3              4         1       1   \n",
              "4              5         0       3   \n",
              "..           ...       ...     ...   \n",
              "886          887         0       2   \n",
              "887          888         1       1   \n",
              "888          889         0       3   \n",
              "889          890         1       1   \n",
              "890          891         0       3   \n",
              "\n",
              "                                                  Name     Sex   Age  SibSp  \\\n",
              "0                              Braund, Mr. Owen Harris    male  22.0      1   \n",
              "1    Cumings, Mrs. John Bradley (Florence Briggs Th...  female  38.0      1   \n",
              "2                               Heikkinen, Miss. Laina  female  26.0      0   \n",
              "3         Futrelle, Mrs. Jacques Heath (Lily May Peel)  female  35.0      1   \n",
              "4                             Allen, Mr. William Henry    male  35.0      0   \n",
              "..                                                 ...     ...   ...    ...   \n",
              "886                              Montvila, Rev. Juozas    male  27.0      0   \n",
              "887                       Graham, Miss. Margaret Edith  female  19.0      0   \n",
              "888           Johnston, Miss. Catherine Helen \"Carrie\"  female   NaN      1   \n",
              "889                              Behr, Mr. Karl Howell    male  26.0      0   \n",
              "890                                Dooley, Mr. Patrick    male  32.0      0   \n",
              "\n",
              "     Parch            Ticket     Fare Cabin Embarked  \n",
              "0        0         A/5 21171   7.2500   NaN        S  \n",
              "1        0          PC 17599  71.2833   C85        C  \n",
              "2        0  STON/O2. 3101282   7.9250   NaN        S  \n",
              "3        0            113803  53.1000  C123        S  \n",
              "4        0            373450   8.0500   NaN        S  \n",
              "..     ...               ...      ...   ...      ...  \n",
              "886      0            211536  13.0000   NaN        S  \n",
              "887      0            112053  30.0000   B42        S  \n",
              "888      2        W./C. 6607  23.4500   NaN        S  \n",
              "889      0            111369  30.0000  C148        C  \n",
              "890      0            370376   7.7500   NaN        Q  \n",
              "\n",
              "[891 rows x 12 columns]"
            ],
            "text/html": [
              "\n",
              "  <div id=\"df-f40d224b-4813-4526-a2f4-ee498c3ededc\">\n",
              "    <div class=\"colab-df-container\">\n",
              "      <div>\n",
              "<style scoped>\n",
              "    .dataframe tbody tr th:only-of-type {\n",
              "        vertical-align: middle;\n",
              "    }\n",
              "\n",
              "    .dataframe tbody tr th {\n",
              "        vertical-align: top;\n",
              "    }\n",
              "\n",
              "    .dataframe thead th {\n",
              "        text-align: right;\n",
              "    }\n",
              "</style>\n",
              "<table border=\"1\" class=\"dataframe\">\n",
              "  <thead>\n",
              "    <tr style=\"text-align: right;\">\n",
              "      <th></th>\n",
              "      <th>PassengerId</th>\n",
              "      <th>Survived</th>\n",
              "      <th>Pclass</th>\n",
              "      <th>Name</th>\n",
              "      <th>Sex</th>\n",
              "      <th>Age</th>\n",
              "      <th>SibSp</th>\n",
              "      <th>Parch</th>\n",
              "      <th>Ticket</th>\n",
              "      <th>Fare</th>\n",
              "      <th>Cabin</th>\n",
              "      <th>Embarked</th>\n",
              "    </tr>\n",
              "  </thead>\n",
              "  <tbody>\n",
              "    <tr>\n",
              "      <th>0</th>\n",
              "      <td>1</td>\n",
              "      <td>0</td>\n",
              "      <td>3</td>\n",
              "      <td>Braund, Mr. Owen Harris</td>\n",
              "      <td>male</td>\n",
              "      <td>22.0</td>\n",
              "      <td>1</td>\n",
              "      <td>0</td>\n",
              "      <td>A/5 21171</td>\n",
              "      <td>7.2500</td>\n",
              "      <td>NaN</td>\n",
              "      <td>S</td>\n",
              "    </tr>\n",
              "    <tr>\n",
              "      <th>1</th>\n",
              "      <td>2</td>\n",
              "      <td>1</td>\n",
              "      <td>1</td>\n",
              "      <td>Cumings, Mrs. John Bradley (Florence Briggs Th...</td>\n",
              "      <td>female</td>\n",
              "      <td>38.0</td>\n",
              "      <td>1</td>\n",
              "      <td>0</td>\n",
              "      <td>PC 17599</td>\n",
              "      <td>71.2833</td>\n",
              "      <td>C85</td>\n",
              "      <td>C</td>\n",
              "    </tr>\n",
              "    <tr>\n",
              "      <th>2</th>\n",
              "      <td>3</td>\n",
              "      <td>1</td>\n",
              "      <td>3</td>\n",
              "      <td>Heikkinen, Miss. Laina</td>\n",
              "      <td>female</td>\n",
              "      <td>26.0</td>\n",
              "      <td>0</td>\n",
              "      <td>0</td>\n",
              "      <td>STON/O2. 3101282</td>\n",
              "      <td>7.9250</td>\n",
              "      <td>NaN</td>\n",
              "      <td>S</td>\n",
              "    </tr>\n",
              "    <tr>\n",
              "      <th>3</th>\n",
              "      <td>4</td>\n",
              "      <td>1</td>\n",
              "      <td>1</td>\n",
              "      <td>Futrelle, Mrs. Jacques Heath (Lily May Peel)</td>\n",
              "      <td>female</td>\n",
              "      <td>35.0</td>\n",
              "      <td>1</td>\n",
              "      <td>0</td>\n",
              "      <td>113803</td>\n",
              "      <td>53.1000</td>\n",
              "      <td>C123</td>\n",
              "      <td>S</td>\n",
              "    </tr>\n",
              "    <tr>\n",
              "      <th>4</th>\n",
              "      <td>5</td>\n",
              "      <td>0</td>\n",
              "      <td>3</td>\n",
              "      <td>Allen, Mr. William Henry</td>\n",
              "      <td>male</td>\n",
              "      <td>35.0</td>\n",
              "      <td>0</td>\n",
              "      <td>0</td>\n",
              "      <td>373450</td>\n",
              "      <td>8.0500</td>\n",
              "      <td>NaN</td>\n",
              "      <td>S</td>\n",
              "    </tr>\n",
              "    <tr>\n",
              "      <th>...</th>\n",
              "      <td>...</td>\n",
              "      <td>...</td>\n",
              "      <td>...</td>\n",
              "      <td>...</td>\n",
              "      <td>...</td>\n",
              "      <td>...</td>\n",
              "      <td>...</td>\n",
              "      <td>...</td>\n",
              "      <td>...</td>\n",
              "      <td>...</td>\n",
              "      <td>...</td>\n",
              "      <td>...</td>\n",
              "    </tr>\n",
              "    <tr>\n",
              "      <th>886</th>\n",
              "      <td>887</td>\n",
              "      <td>0</td>\n",
              "      <td>2</td>\n",
              "      <td>Montvila, Rev. Juozas</td>\n",
              "      <td>male</td>\n",
              "      <td>27.0</td>\n",
              "      <td>0</td>\n",
              "      <td>0</td>\n",
              "      <td>211536</td>\n",
              "      <td>13.0000</td>\n",
              "      <td>NaN</td>\n",
              "      <td>S</td>\n",
              "    </tr>\n",
              "    <tr>\n",
              "      <th>887</th>\n",
              "      <td>888</td>\n",
              "      <td>1</td>\n",
              "      <td>1</td>\n",
              "      <td>Graham, Miss. Margaret Edith</td>\n",
              "      <td>female</td>\n",
              "      <td>19.0</td>\n",
              "      <td>0</td>\n",
              "      <td>0</td>\n",
              "      <td>112053</td>\n",
              "      <td>30.0000</td>\n",
              "      <td>B42</td>\n",
              "      <td>S</td>\n",
              "    </tr>\n",
              "    <tr>\n",
              "      <th>888</th>\n",
              "      <td>889</td>\n",
              "      <td>0</td>\n",
              "      <td>3</td>\n",
              "      <td>Johnston, Miss. Catherine Helen \"Carrie\"</td>\n",
              "      <td>female</td>\n",
              "      <td>NaN</td>\n",
              "      <td>1</td>\n",
              "      <td>2</td>\n",
              "      <td>W./C. 6607</td>\n",
              "      <td>23.4500</td>\n",
              "      <td>NaN</td>\n",
              "      <td>S</td>\n",
              "    </tr>\n",
              "    <tr>\n",
              "      <th>889</th>\n",
              "      <td>890</td>\n",
              "      <td>1</td>\n",
              "      <td>1</td>\n",
              "      <td>Behr, Mr. Karl Howell</td>\n",
              "      <td>male</td>\n",
              "      <td>26.0</td>\n",
              "      <td>0</td>\n",
              "      <td>0</td>\n",
              "      <td>111369</td>\n",
              "      <td>30.0000</td>\n",
              "      <td>C148</td>\n",
              "      <td>C</td>\n",
              "    </tr>\n",
              "    <tr>\n",
              "      <th>890</th>\n",
              "      <td>891</td>\n",
              "      <td>0</td>\n",
              "      <td>3</td>\n",
              "      <td>Dooley, Mr. Patrick</td>\n",
              "      <td>male</td>\n",
              "      <td>32.0</td>\n",
              "      <td>0</td>\n",
              "      <td>0</td>\n",
              "      <td>370376</td>\n",
              "      <td>7.7500</td>\n",
              "      <td>NaN</td>\n",
              "      <td>Q</td>\n",
              "    </tr>\n",
              "  </tbody>\n",
              "</table>\n",
              "<p>891 rows × 12 columns</p>\n",
              "</div>\n",
              "      <button class=\"colab-df-convert\" onclick=\"convertToInteractive('df-f40d224b-4813-4526-a2f4-ee498c3ededc')\"\n",
              "              title=\"Convert this dataframe to an interactive table.\"\n",
              "              style=\"display:none;\">\n",
              "        \n",
              "  <svg xmlns=\"http://www.w3.org/2000/svg\" height=\"24px\"viewBox=\"0 0 24 24\"\n",
              "       width=\"24px\">\n",
              "    <path d=\"M0 0h24v24H0V0z\" fill=\"none\"/>\n",
              "    <path d=\"M18.56 5.44l.94 2.06.94-2.06 2.06-.94-2.06-.94-.94-2.06-.94 2.06-2.06.94zm-11 1L8.5 8.5l.94-2.06 2.06-.94-2.06-.94L8.5 2.5l-.94 2.06-2.06.94zm10 10l.94 2.06.94-2.06 2.06-.94-2.06-.94-.94-2.06-.94 2.06-2.06.94z\"/><path d=\"M17.41 7.96l-1.37-1.37c-.4-.4-.92-.59-1.43-.59-.52 0-1.04.2-1.43.59L10.3 9.45l-7.72 7.72c-.78.78-.78 2.05 0 2.83L4 21.41c.39.39.9.59 1.41.59.51 0 1.02-.2 1.41-.59l7.78-7.78 2.81-2.81c.8-.78.8-2.07 0-2.86zM5.41 20L4 18.59l7.72-7.72 1.47 1.35L5.41 20z\"/>\n",
              "  </svg>\n",
              "      </button>\n",
              "      \n",
              "  <style>\n",
              "    .colab-df-container {\n",
              "      display:flex;\n",
              "      flex-wrap:wrap;\n",
              "      gap: 12px;\n",
              "    }\n",
              "\n",
              "    .colab-df-convert {\n",
              "      background-color: #E8F0FE;\n",
              "      border: none;\n",
              "      border-radius: 50%;\n",
              "      cursor: pointer;\n",
              "      display: none;\n",
              "      fill: #1967D2;\n",
              "      height: 32px;\n",
              "      padding: 0 0 0 0;\n",
              "      width: 32px;\n",
              "    }\n",
              "\n",
              "    .colab-df-convert:hover {\n",
              "      background-color: #E2EBFA;\n",
              "      box-shadow: 0px 1px 2px rgba(60, 64, 67, 0.3), 0px 1px 3px 1px rgba(60, 64, 67, 0.15);\n",
              "      fill: #174EA6;\n",
              "    }\n",
              "\n",
              "    [theme=dark] .colab-df-convert {\n",
              "      background-color: #3B4455;\n",
              "      fill: #D2E3FC;\n",
              "    }\n",
              "\n",
              "    [theme=dark] .colab-df-convert:hover {\n",
              "      background-color: #434B5C;\n",
              "      box-shadow: 0px 1px 3px 1px rgba(0, 0, 0, 0.15);\n",
              "      filter: drop-shadow(0px 1px 2px rgba(0, 0, 0, 0.3));\n",
              "      fill: #FFFFFF;\n",
              "    }\n",
              "  </style>\n",
              "\n",
              "      <script>\n",
              "        const buttonEl =\n",
              "          document.querySelector('#df-f40d224b-4813-4526-a2f4-ee498c3ededc button.colab-df-convert');\n",
              "        buttonEl.style.display =\n",
              "          google.colab.kernel.accessAllowed ? 'block' : 'none';\n",
              "\n",
              "        async function convertToInteractive(key) {\n",
              "          const element = document.querySelector('#df-f40d224b-4813-4526-a2f4-ee498c3ededc');\n",
              "          const dataTable =\n",
              "            await google.colab.kernel.invokeFunction('convertToInteractive',\n",
              "                                                     [key], {});\n",
              "          if (!dataTable) return;\n",
              "\n",
              "          const docLinkHtml = 'Like what you see? Visit the ' +\n",
              "            '<a target=\"_blank\" href=https://colab.research.google.com/notebooks/data_table.ipynb>data table notebook</a>'\n",
              "            + ' to learn more about interactive tables.';\n",
              "          element.innerHTML = '';\n",
              "          dataTable['output_type'] = 'display_data';\n",
              "          await google.colab.output.renderOutput(dataTable, element);\n",
              "          const docLink = document.createElement('div');\n",
              "          docLink.innerHTML = docLinkHtml;\n",
              "          element.appendChild(docLink);\n",
              "        }\n",
              "      </script>\n",
              "    </div>\n",
              "  </div>\n",
              "  "
            ]
          },
          "metadata": {},
          "execution_count": 5
        }
      ]
    },
    {
      "cell_type": "code",
      "source": [
        "#Perform column append, drop operation\n",
        "import csv\n",
        "import pandas as pd\n",
        "import numpy as np\n",
        "\n",
        "#open 3 csv file\n",
        "gender = pd.read_csv('/content/drive/MyDrive/Python_File/gender_submission.csv')\n",
        "test = pd.read_csv('/content/drive/MyDrive/Python_File/test.csv')\n",
        "train = pd.read_csv('/content/drive/MyDrive/Python_File/train.csv')\n",
        "\n",
        "#convert 3 csv file into data frame\n",
        "df1 = pd.DataFrame(gender)\n",
        "df2 = pd.DataFrame(test)\n",
        "df3 = pd.DataFrame(train)\n",
        "\n",
        "#........CREATING DATA.........#\n",
        "#converting df1's column no 1 into a list\n",
        "survive = df1[\"Survived\"].tolist()\n",
        "\n",
        "#insert list into the df2's column no 2\n",
        "df2.insert(1,'Survived',survive,True)\n",
        "\n",
        "#append df2 at the end of df3\n",
        "df=df3.append(df2)\n",
        "\n",
        "#Remove duplicated\n",
        "df.dropna()\n",
        "\n",
        "#reset index\n",
        "df.reset_index(inplace = True, drop = True)\n",
        "\n",
        "#find duplicates\n",
        "duplicate = df[df.duplicated()]\n",
        "print(duplicate)\n",
        "\n",
        "#missing value print with respect to age\n",
        "miss = pd.isnull(df[\"Age\"])\n",
        "print(miss)\n",
        "\n",
        "#fill missing value with average age\n",
        "print(round(df.fillna(np.nan)))\n"
      ],
      "metadata": {
        "colab": {
          "base_uri": "https://localhost:8080/"
        },
        "id": "tspvn3nucOrT",
        "outputId": "d13bb0b7-99e0-494f-e3a7-7d72f3dfcb60"
      },
      "execution_count": 10,
      "outputs": [
        {
          "output_type": "stream",
          "name": "stdout",
          "text": [
            "Empty DataFrame\n",
            "Columns: [PassengerId, Survived, Pclass, Name, Sex, Age, SibSp, Parch, Ticket, Fare, Cabin, Embarked]\n",
            "Index: []\n",
            "0       False\n",
            "1       False\n",
            "2       False\n",
            "3       False\n",
            "4       False\n",
            "        ...  \n",
            "1304     True\n",
            "1305    False\n",
            "1306    False\n",
            "1307     True\n",
            "1308     True\n",
            "Name: Age, Length: 1309, dtype: bool\n",
            "      PassengerId  Survived  Pclass  \\\n",
            "0               1         0       3   \n",
            "1               2         1       1   \n",
            "2               3         1       3   \n",
            "3               4         1       1   \n",
            "4               5         0       3   \n",
            "...           ...       ...     ...   \n",
            "1304         1305         0       3   \n",
            "1305         1306         1       1   \n",
            "1306         1307         0       3   \n",
            "1307         1308         0       3   \n",
            "1308         1309         0       3   \n",
            "\n",
            "                                                   Name     Sex   Age  SibSp  \\\n",
            "0                               Braund, Mr. Owen Harris    male  22.0      1   \n",
            "1     Cumings, Mrs. John Bradley (Florence Briggs Th...  female  38.0      1   \n",
            "2                                Heikkinen, Miss. Laina  female  26.0      0   \n",
            "3          Futrelle, Mrs. Jacques Heath (Lily May Peel)  female  35.0      1   \n",
            "4                              Allen, Mr. William Henry    male  35.0      0   \n",
            "...                                                 ...     ...   ...    ...   \n",
            "1304                                 Spector, Mr. Woolf    male   NaN      0   \n",
            "1305                       Oliva y Ocana, Dona. Fermina  female  39.0      0   \n",
            "1306                       Saether, Mr. Simon Sivertsen    male  38.0      0   \n",
            "1307                                Ware, Mr. Frederick    male   NaN      0   \n",
            "1308                           Peter, Master. Michael J    male   NaN      1   \n",
            "\n",
            "      Parch              Ticket   Fare Cabin Embarked  \n",
            "0         0           A/5 21171    7.0   NaN        S  \n",
            "1         0            PC 17599   71.0   C85        C  \n",
            "2         0    STON/O2. 3101282    8.0   NaN        S  \n",
            "3         0              113803   53.0  C123        S  \n",
            "4         0              373450    8.0   NaN        S  \n",
            "...     ...                 ...    ...   ...      ...  \n",
            "1304      0           A.5. 3236    8.0   NaN        S  \n",
            "1305      0            PC 17758  109.0  C105        C  \n",
            "1306      0  SOTON/O.Q. 3101262    7.0   NaN        S  \n",
            "1307      0              359309    8.0   NaN        S  \n",
            "1308      1                2668   22.0   NaN        C  \n",
            "\n",
            "[1309 rows x 12 columns]\n"
          ]
        }
      ]
    }
  ]
}