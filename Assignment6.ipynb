{
  "nbformat": 4,
  "nbformat_minor": 0,
  "metadata": {
    "colab": {
      "provenance": []
    },
    "kernelspec": {
      "name": "python3",
      "display_name": "Python 3"
    },
    "language_info": {
      "name": "python"
    }
  },
  "cells": [
    {
      "cell_type": "code",
      "execution_count": null,
      "metadata": {
        "colab": {
          "base_uri": "https://localhost:8080/"
        },
        "id": "x9EIVaXnA8PP",
        "outputId": "87a7e68f-74d2-4acd-f241-4768e3f9dced"
      },
      "outputs": [
        {
          "output_type": "stream",
          "name": "stdout",
          "text": [
            "Original Array:\n",
            " [ 0  1  2  3  4  5  6  7  8  9 10 11]\n",
            "\n",
            "Array with 2 rows 6 columns\n",
            " [[ 0  1  2  3  4  5]\n",
            " [ 6  7  8  9 10 11]]\n",
            "\n",
            "3D Array\n",
            " [[[ 0  1  2]\n",
            "  [ 3  4  5]]\n",
            "\n",
            " [[ 6  7  8]\n",
            "  [ 9 10 11]]]\n"
          ]
        }
      ],
      "source": [
        "#Data Shaping and reshaping using \n",
        "\n",
        "#Data Reshape\n",
        "import numpy as np\n",
        "\n",
        "#shaping Data\n",
        "array1 = np.zeros(shape=(1,12))\n",
        "array1 = np.arange(12)\n",
        "print(\"Original Array:\\n\",array1)\n",
        "\n",
        "#Data Reshaping\n",
        "print(\"\\nArray with 2 rows 6 columns\\n\",array1.reshape(2,6))\n",
        "print(\"\\n3D Array\\n\",array1.reshape(2,2,3))"
      ]
    },
    {
      "cell_type": "code",
      "source": [
        "# Perform the slicing , dicing, sorting and shuffling operation on NumPy array\n",
        "import numpy as np\n",
        "array2 = np.arange(36)\n",
        "array2 = array2.reshape(3,3,4)\n",
        "print('Original Array:\\n',array2)\n",
        "\n",
        "#Data slicing (R0w Operations)\n",
        "print('\\n2nd Row of Array:\\n',array2[1])\n",
        "print('\\n(2,1)th Row of Array:\\n',array2[1,0])\n",
        "print('\\nAny Perticular element:\\n',array2[0,0,2])\n",
        "\n",
        "#Data slicing (Columns Operations)\n",
        "print('\\n2nd Column of Array:\\n',array2[:,1])\n",
        "print('\\n(2,1)th column of Array:\\n',array2[1,:,0])"
      ],
      "metadata": {
        "colab": {
          "base_uri": "https://localhost:8080/"
        },
        "id": "RBhMU551E8zM",
        "outputId": "6036c66f-a45a-4b90-9076-c43a556c42f7"
      },
      "execution_count": null,
      "outputs": [
        {
          "output_type": "stream",
          "name": "stdout",
          "text": [
            "Original Array:\n",
            " [[[ 0  1  2  3]\n",
            "  [ 4  5  6  7]\n",
            "  [ 8  9 10 11]]\n",
            "\n",
            " [[12 13 14 15]\n",
            "  [16 17 18 19]\n",
            "  [20 21 22 23]]\n",
            "\n",
            " [[24 25 26 27]\n",
            "  [28 29 30 31]\n",
            "  [32 33 34 35]]]\n",
            "\n",
            "2nd Row of Array:\n",
            " [[12 13 14 15]\n",
            " [16 17 18 19]\n",
            " [20 21 22 23]]\n",
            "\n",
            "(2,1)th Row of Array:\n",
            " [12 13 14 15]\n",
            "\n",
            "Any Perticular element:\n",
            " 2\n",
            "\n",
            "2nd Column of Array:\n",
            " [[ 4  5  6  7]\n",
            " [16 17 18 19]\n",
            " [28 29 30 31]]\n",
            "\n",
            "(2,1)th column of Array:\n",
            " [12 16 20]\n"
          ]
        }
      ]
    },
    {
      "cell_type": "code",
      "source": [
        "import numpy as np\n",
        "#sorting operation\n",
        "array3 = np.array([2,6,1,4,8,0,5,7])\n",
        "print(\"\\nOriginal Array:\",array3)\n",
        "print(\"Sorterd Array:\",np.sort(array3))\n",
        "\n",
        "#Shuffling operation\n",
        "array3 = np.arange(10)\n",
        "print(np.random.shuffle(array3))"
      ],
      "metadata": {
        "colab": {
          "base_uri": "https://localhost:8080/"
        },
        "id": "YkFyMGu1D-SZ",
        "outputId": "23807f92-f6d7-42a5-d845-3fe0c9ab5dbf"
      },
      "execution_count": null,
      "outputs": [
        {
          "output_type": "stream",
          "name": "stdout",
          "text": [
            "\n",
            "Original Array: [2 6 1 4 8 0 5 7]\n",
            "Sorterd Array: [0 1 2 4 5 6 7 8]\n",
            "None\n"
          ]
        }
      ]
    },
    {
      "cell_type": "code",
      "source": [
        "# Perform datamap and data plan for sample data\n",
        "import pandas as pd\n",
        "import matplotlib.pyplot as plt\n",
        "import numpy as np\n",
        "car = pd.read_csv('/content/drive/MyDrive/Python_File/MotorCarDataSet.csv')\n",
        "print(car)\n",
        "\n",
        "#converting into dataframe\n",
        "Car = pd.DataFrame(car)"
      ],
      "metadata": {
        "id": "uYOFkReeizpR",
        "colab": {
          "base_uri": "https://localhost:8080/"
        },
        "outputId": "fe1d64b6-b4e8-454e-eda1-bf029a149b0e"
      },
      "execution_count": 1,
      "outputs": [
        {
          "output_type": "stream",
          "name": "stdout",
          "text": [
            "                                                  title price_in_aed  \\\n",
            "0                         MITSUBISHI PAJERO 3.5L / 2013       26,000   \n",
            "1                                   chevrolet silverado      110,000   \n",
            "2     MERCEDES-BENZ E300 - 2014 - GCC SPEC - FULL OP...       78,000   \n",
            "3     WARRANTY UNTIL APR 2023 || Ferrari 488 Spider ...      899,000   \n",
            "4                              USED RENAULT DOKKER 2020       33,000   \n",
            "...                                                 ...          ...   \n",
            "9965  AED7525month | 2015 Land Rover Range Rover Aut...      215,000   \n",
            "9966             LOW MILEAGE Cadillac Escalade Platinum       90,000   \n",
            "9967  WARRANTY AVAILABLE || Range Rover Sport SVR Ca...      679,000   \n",
            "9968                         Chevrolet Malibu  GCC Spec       18,900   \n",
            "9969  LOW MILEAGE! PERFECT CONDITION! Jeep Wrangler ...       77,700   \n",
            "\n",
            "      kilometers                 body_condition    mechanical_condition  \\\n",
            "0         167390         Perfect inside and out  Perfect inside and out   \n",
            "1          39000         Perfect inside and out  Perfect inside and out   \n",
            "2         200000         Perfect inside and out  Perfect inside and out   \n",
            "3          27000         Perfect inside and out  Perfect inside and out   \n",
            "4          69000         Perfect inside and out  Perfect inside and out   \n",
            "...          ...                            ...                     ...   \n",
            "9965      105777         Perfect inside and out  Perfect inside and out   \n",
            "9966       55640         Perfect inside and out  Perfect inside and out   \n",
            "9967         100         Perfect inside and out  Perfect inside and out   \n",
            "9968      140000  No accidents, very few faults  Perfect inside and out   \n",
            "9969       86000         Perfect inside and out  Perfect inside and out   \n",
            "\n",
            "     seller_type             body_type no_of_cylinders  \\\n",
            "0         Dealer                   SUV               6   \n",
            "1         Dealer                   SUV               8   \n",
            "2         Dealer                 Sedan               6   \n",
            "3         Dealer  Hard Top Convertible               8   \n",
            "4          Owner                 Wagon               4   \n",
            "...          ...                   ...             ...   \n",
            "9965      Dealer                   SUV               8   \n",
            "9966       Owner                   SUV               8   \n",
            "9967      Dealer                   SUV               8   \n",
            "9968       Owner                 Sedan               4   \n",
            "9969      Dealer             Crossover               6   \n",
            "\n",
            "           transmission_type        regional_specs        horsepower  \\\n",
            "0     Automatic Transmission             GCC Specs           Unknown   \n",
            "1     Automatic Transmission  North American Specs      400 - 500 HP   \n",
            "2     Automatic Transmission             GCC Specs      400 - 500 HP   \n",
            "3     Automatic Transmission             GCC Specs      600 - 700 HP   \n",
            "4        Manual Transmission             GCC Specs  Less than 150 HP   \n",
            "...                      ...                   ...               ...   \n",
            "9965  Automatic Transmission             GCC Specs      500 - 600 HP   \n",
            "9966  Automatic Transmission             GCC Specs      400 - 500 HP   \n",
            "9967  Automatic Transmission                 Other      400 - 500 HP   \n",
            "9968  Automatic Transmission             GCC Specs      150 - 200 HP   \n",
            "9969     Manual Transmission             GCC Specs      200 - 300 HP   \n",
            "\n",
            "     fuel_type   steering_side    year   color   emirate        motors_trim  \\\n",
            "0     Gasoline  Left Hand Side  2013.0  Silver     Dubai                GLS   \n",
            "1     Gasoline  Left Hand Side  2018.0   White   Sharjah  1500 High Country   \n",
            "2     Gasoline  Left Hand Side  2014.0    Blue   Sharjah              E 300   \n",
            "3     Gasoline  Left Hand Side  2018.0     Red     Dubai           Standard   \n",
            "4     Gasoline  Left Hand Side  2020.0   White     Dubai           Standard   \n",
            "...        ...             ...     ...     ...       ...                ...   \n",
            "9965  Gasoline  Left Hand Side  2015.0   White     Dubai      Autobiography   \n",
            "9966  Gasoline  Left Hand Side  2014.0   White     Dubai           Platinum   \n",
            "9967  Gasoline  Left Hand Side     NaN   Black     Dubai                SVR   \n",
            "9968  Gasoline  Left Hand Side  2013.0   White     Dubai                 LS   \n",
            "9969  Gasoline  Left Hand Side  2013.0  Orange     Dubai             Sahara   \n",
            "\n",
            "            company              model date_posted  \n",
            "0        mitsubishi             pajero  13/05/2022  \n",
            "1         chevrolet          silverado  14/01/2022  \n",
            "2     mercedes-benz            e-class  05/05/2022  \n",
            "3           ferrari         488-spider  30/04/2022  \n",
            "4           renault             dokker  13/05/2022  \n",
            "...             ...                ...         ...  \n",
            "9965     land-rover        range-rover  18/11/2021  \n",
            "9966       cadillac           escalade  11/05/2022  \n",
            "9967     land-rover  range-rover-sport  14/12/2021  \n",
            "9968      chevrolet             malibu  06/03/2022  \n",
            "9969           jeep           wrangler  04/12/2021  \n",
            "\n",
            "[9970 rows x 20 columns]\n"
          ]
        }
      ]
    },
    {
      "cell_type": "code",
      "source": [
        "#Remove unwanted column & Row to save space\n",
        "Car.drop(Car.columns[[0, 3, 4, 5, 6, 8, 9, 11, 12, 14, 15, 16, 18, 19]], axis=1, inplace=True)\n",
        "\n",
        "#Drop row that contain null values\n",
        "Car=Car.dropna()\n",
        "\n",
        "#We can take value between price 1000000 to 500000"
      ],
      "metadata": {
        "id": "bgc5_vS1qYNR"
      },
      "execution_count": 2,
      "outputs": []
    },
    {
      "cell_type": "code",
      "source": [
        "#Sort data with respect to company name\n",
        "Car=Car.sort_values(by='kilometers')\n",
        "Car.reset_index(inplace=True, drop=True)"
      ],
      "metadata": {
        "id": "4E8cmMxmFQV2"
      },
      "execution_count": 3,
      "outputs": []
    },
    {
      "cell_type": "code",
      "source": [
        "#Conditioning of data\n",
        "Car_name = Car['company'].tolist()\n",
        "print(Car.iloc[Car_name.index('alfa-romeo')])\n",
        "Car"
      ],
      "metadata": {
        "colab": {
          "base_uri": "https://localhost:8080/",
          "height": 551
        },
        "id": "wvQvY4iz6nxx",
        "outputId": "3d0f784d-8935-4dde-a1d9-178f43652e88"
      },
      "execution_count": 4,
      "outputs": [
        {
          "output_type": "stream",
          "name": "stdout",
          "text": [
            "price_in_aed                 95,000\n",
            "kilometers                     4500\n",
            "no_of_cylinders                   4\n",
            "horsepower         Less than 150 HP\n",
            "year                         2021.0\n",
            "company                  alfa-romeo\n",
            "Name: 615, dtype: object\n"
          ]
        },
        {
          "output_type": "execute_result",
          "data": {
            "text/plain": [
              "     price_in_aed  kilometers no_of_cylinders    horsepower    year  \\\n",
              "0       2,249,000           0              12  700 - 800 HP  2021.0   \n",
              "1         145,000           0               4  200 - 300 HP  2021.0   \n",
              "2         198,000           0               4  200 - 300 HP  2021.0   \n",
              "3       1,199,990           0              12  500 - 600 HP  2019.0   \n",
              "4         603,000           0               6  300 - 400 HP  2021.0   \n",
              "...           ...         ...             ...           ...     ...   \n",
              "8964       25,000     2000000               8  300 - 400 HP  2012.0   \n",
              "8965       39,500     2015652               4  600 - 700 HP  2016.0   \n",
              "8966      250,000     2500000               4       Unknown  2009.0   \n",
              "8967        6,000     2559000               4  200 - 300 HP  2007.0   \n",
              "8968      112,000   115000000               8  400 - 500 HP  2006.0   \n",
              "\n",
              "          company  \n",
              "0         ferrari  \n",
              "1          toyota  \n",
              "2            ford  \n",
              "3     rolls-royce  \n",
              "4             bmw  \n",
              "...           ...  \n",
              "8964    chevrolet  \n",
              "8965       nissan  \n",
              "8966   land-rover  \n",
              "8967       nissan  \n",
              "8968       toyota  \n",
              "\n",
              "[8969 rows x 6 columns]"
            ],
            "text/html": [
              "\n",
              "  <div id=\"df-c83ecc1e-7748-45b3-9579-e9900f1e7b50\">\n",
              "    <div class=\"colab-df-container\">\n",
              "      <div>\n",
              "<style scoped>\n",
              "    .dataframe tbody tr th:only-of-type {\n",
              "        vertical-align: middle;\n",
              "    }\n",
              "\n",
              "    .dataframe tbody tr th {\n",
              "        vertical-align: top;\n",
              "    }\n",
              "\n",
              "    .dataframe thead th {\n",
              "        text-align: right;\n",
              "    }\n",
              "</style>\n",
              "<table border=\"1\" class=\"dataframe\">\n",
              "  <thead>\n",
              "    <tr style=\"text-align: right;\">\n",
              "      <th></th>\n",
              "      <th>price_in_aed</th>\n",
              "      <th>kilometers</th>\n",
              "      <th>no_of_cylinders</th>\n",
              "      <th>horsepower</th>\n",
              "      <th>year</th>\n",
              "      <th>company</th>\n",
              "    </tr>\n",
              "  </thead>\n",
              "  <tbody>\n",
              "    <tr>\n",
              "      <th>0</th>\n",
              "      <td>2,249,000</td>\n",
              "      <td>0</td>\n",
              "      <td>12</td>\n",
              "      <td>700 - 800 HP</td>\n",
              "      <td>2021.0</td>\n",
              "      <td>ferrari</td>\n",
              "    </tr>\n",
              "    <tr>\n",
              "      <th>1</th>\n",
              "      <td>145,000</td>\n",
              "      <td>0</td>\n",
              "      <td>4</td>\n",
              "      <td>200 - 300 HP</td>\n",
              "      <td>2021.0</td>\n",
              "      <td>toyota</td>\n",
              "    </tr>\n",
              "    <tr>\n",
              "      <th>2</th>\n",
              "      <td>198,000</td>\n",
              "      <td>0</td>\n",
              "      <td>4</td>\n",
              "      <td>200 - 300 HP</td>\n",
              "      <td>2021.0</td>\n",
              "      <td>ford</td>\n",
              "    </tr>\n",
              "    <tr>\n",
              "      <th>3</th>\n",
              "      <td>1,199,990</td>\n",
              "      <td>0</td>\n",
              "      <td>12</td>\n",
              "      <td>500 - 600 HP</td>\n",
              "      <td>2019.0</td>\n",
              "      <td>rolls-royce</td>\n",
              "    </tr>\n",
              "    <tr>\n",
              "      <th>4</th>\n",
              "      <td>603,000</td>\n",
              "      <td>0</td>\n",
              "      <td>6</td>\n",
              "      <td>300 - 400 HP</td>\n",
              "      <td>2021.0</td>\n",
              "      <td>bmw</td>\n",
              "    </tr>\n",
              "    <tr>\n",
              "      <th>...</th>\n",
              "      <td>...</td>\n",
              "      <td>...</td>\n",
              "      <td>...</td>\n",
              "      <td>...</td>\n",
              "      <td>...</td>\n",
              "      <td>...</td>\n",
              "    </tr>\n",
              "    <tr>\n",
              "      <th>8964</th>\n",
              "      <td>25,000</td>\n",
              "      <td>2000000</td>\n",
              "      <td>8</td>\n",
              "      <td>300 - 400 HP</td>\n",
              "      <td>2012.0</td>\n",
              "      <td>chevrolet</td>\n",
              "    </tr>\n",
              "    <tr>\n",
              "      <th>8965</th>\n",
              "      <td>39,500</td>\n",
              "      <td>2015652</td>\n",
              "      <td>4</td>\n",
              "      <td>600 - 700 HP</td>\n",
              "      <td>2016.0</td>\n",
              "      <td>nissan</td>\n",
              "    </tr>\n",
              "    <tr>\n",
              "      <th>8966</th>\n",
              "      <td>250,000</td>\n",
              "      <td>2500000</td>\n",
              "      <td>4</td>\n",
              "      <td>Unknown</td>\n",
              "      <td>2009.0</td>\n",
              "      <td>land-rover</td>\n",
              "    </tr>\n",
              "    <tr>\n",
              "      <th>8967</th>\n",
              "      <td>6,000</td>\n",
              "      <td>2559000</td>\n",
              "      <td>4</td>\n",
              "      <td>200 - 300 HP</td>\n",
              "      <td>2007.0</td>\n",
              "      <td>nissan</td>\n",
              "    </tr>\n",
              "    <tr>\n",
              "      <th>8968</th>\n",
              "      <td>112,000</td>\n",
              "      <td>115000000</td>\n",
              "      <td>8</td>\n",
              "      <td>400 - 500 HP</td>\n",
              "      <td>2006.0</td>\n",
              "      <td>toyota</td>\n",
              "    </tr>\n",
              "  </tbody>\n",
              "</table>\n",
              "<p>8969 rows × 6 columns</p>\n",
              "</div>\n",
              "      <button class=\"colab-df-convert\" onclick=\"convertToInteractive('df-c83ecc1e-7748-45b3-9579-e9900f1e7b50')\"\n",
              "              title=\"Convert this dataframe to an interactive table.\"\n",
              "              style=\"display:none;\">\n",
              "        \n",
              "  <svg xmlns=\"http://www.w3.org/2000/svg\" height=\"24px\"viewBox=\"0 0 24 24\"\n",
              "       width=\"24px\">\n",
              "    <path d=\"M0 0h24v24H0V0z\" fill=\"none\"/>\n",
              "    <path d=\"M18.56 5.44l.94 2.06.94-2.06 2.06-.94-2.06-.94-.94-2.06-.94 2.06-2.06.94zm-11 1L8.5 8.5l.94-2.06 2.06-.94-2.06-.94L8.5 2.5l-.94 2.06-2.06.94zm10 10l.94 2.06.94-2.06 2.06-.94-2.06-.94-.94-2.06-.94 2.06-2.06.94z\"/><path d=\"M17.41 7.96l-1.37-1.37c-.4-.4-.92-.59-1.43-.59-.52 0-1.04.2-1.43.59L10.3 9.45l-7.72 7.72c-.78.78-.78 2.05 0 2.83L4 21.41c.39.39.9.59 1.41.59.51 0 1.02-.2 1.41-.59l7.78-7.78 2.81-2.81c.8-.78.8-2.07 0-2.86zM5.41 20L4 18.59l7.72-7.72 1.47 1.35L5.41 20z\"/>\n",
              "  </svg>\n",
              "      </button>\n",
              "      \n",
              "  <style>\n",
              "    .colab-df-container {\n",
              "      display:flex;\n",
              "      flex-wrap:wrap;\n",
              "      gap: 12px;\n",
              "    }\n",
              "\n",
              "    .colab-df-convert {\n",
              "      background-color: #E8F0FE;\n",
              "      border: none;\n",
              "      border-radius: 50%;\n",
              "      cursor: pointer;\n",
              "      display: none;\n",
              "      fill: #1967D2;\n",
              "      height: 32px;\n",
              "      padding: 0 0 0 0;\n",
              "      width: 32px;\n",
              "    }\n",
              "\n",
              "    .colab-df-convert:hover {\n",
              "      background-color: #E2EBFA;\n",
              "      box-shadow: 0px 1px 2px rgba(60, 64, 67, 0.3), 0px 1px 3px 1px rgba(60, 64, 67, 0.15);\n",
              "      fill: #174EA6;\n",
              "    }\n",
              "\n",
              "    [theme=dark] .colab-df-convert {\n",
              "      background-color: #3B4455;\n",
              "      fill: #D2E3FC;\n",
              "    }\n",
              "\n",
              "    [theme=dark] .colab-df-convert:hover {\n",
              "      background-color: #434B5C;\n",
              "      box-shadow: 0px 1px 3px 1px rgba(0, 0, 0, 0.15);\n",
              "      filter: drop-shadow(0px 1px 2px rgba(0, 0, 0, 0.3));\n",
              "      fill: #FFFFFF;\n",
              "    }\n",
              "  </style>\n",
              "\n",
              "      <script>\n",
              "        const buttonEl =\n",
              "          document.querySelector('#df-c83ecc1e-7748-45b3-9579-e9900f1e7b50 button.colab-df-convert');\n",
              "        buttonEl.style.display =\n",
              "          google.colab.kernel.accessAllowed ? 'block' : 'none';\n",
              "\n",
              "        async function convertToInteractive(key) {\n",
              "          const element = document.querySelector('#df-c83ecc1e-7748-45b3-9579-e9900f1e7b50');\n",
              "          const dataTable =\n",
              "            await google.colab.kernel.invokeFunction('convertToInteractive',\n",
              "                                                     [key], {});\n",
              "          if (!dataTable) return;\n",
              "\n",
              "          const docLinkHtml = 'Like what you see? Visit the ' +\n",
              "            '<a target=\"_blank\" href=https://colab.research.google.com/notebooks/data_table.ipynb>data table notebook</a>'\n",
              "            + ' to learn more about interactive tables.';\n",
              "          element.innerHTML = '';\n",
              "          dataTable['output_type'] = 'display_data';\n",
              "          await google.colab.output.renderOutput(dataTable, element);\n",
              "          const docLink = document.createElement('div');\n",
              "          docLink.innerHTML = docLinkHtml;\n",
              "          element.appendChild(docLink);\n",
              "        }\n",
              "      </script>\n",
              "    </div>\n",
              "  </div>\n",
              "  "
            ]
          },
          "metadata": {},
          "execution_count": 4
        }
      ]
    },
    {
      "cell_type": "code",
      "source": [
        "#Perform the task for categorical variable and aggregation of the data.\n",
        "print(car.describe())"
      ],
      "metadata": {
        "id": "ch4m5gUQ8szC",
        "colab": {
          "base_uri": "https://localhost:8080/"
        },
        "outputId": "fb044ba6-8018-4a50-bca8-af027103dd8f"
      },
      "execution_count": null,
      "outputs": [
        {
          "output_type": "stream",
          "name": "stdout",
          "text": [
            "         kilometers         year\n",
            "count  9.970000e+03  9000.000000\n",
            "mean   9.894896e+04  2015.626444\n",
            "std    1.154300e+06     4.735991\n",
            "min    0.000000e+00  1953.000000\n",
            "25%    2.314350e+04  2014.000000\n",
            "50%    7.600000e+04  2016.000000\n",
            "75%    1.330828e+05  2019.000000\n",
            "max    1.150000e+08  2021.000000\n"
          ]
        }
      ]
    },
    {
      "cell_type": "code",
      "source": [
        "#Using groupby() function \n",
        "print(Car.groupby('company').count().reset_index())\n",
        "print(\"Max car price And kilometers\")\n",
        "print((Car.groupby(['price_in_aed','kilometers']).max().reset_index()).head())"
      ],
      "metadata": {
        "colab": {
          "base_uri": "https://localhost:8080/"
        },
        "id": "jNgEv3j7Ll5F",
        "outputId": "4d5a570f-7a76-45ae-dae3-3a361348446a"
      },
      "execution_count": null,
      "outputs": [
        {
          "output_type": "stream",
          "name": "stdout",
          "text": [
            "                 company  price_in_aed  kilometers  no_of_cylinders  \\\n",
            "0                  acura             2           2                2   \n",
            "1             alfa-romeo            22          22               22   \n",
            "2           aston-martin            31          31               31   \n",
            "3                   audi           331         331              331   \n",
            "4                   baic             2           2                2   \n",
            "..                   ...           ...         ...              ...   \n",
            "63                 tesla            15          15               15   \n",
            "64                toyota           700         700              700   \n",
            "65            volkswagen           194         194              194   \n",
            "66                 volvo            26          26               26   \n",
            "67  westfield-sportscars             1           1                1   \n",
            "\n",
            "    horsepower  year  \n",
            "0            2     2  \n",
            "1           22    22  \n",
            "2           31    31  \n",
            "3          331   331  \n",
            "4            2     2  \n",
            "..         ...   ...  \n",
            "63          15    15  \n",
            "64         700   700  \n",
            "65         194   194  \n",
            "66          26    26  \n",
            "67           1     1  \n",
            "\n",
            "[68 rows x 6 columns]\n",
            "Max car price And kilometers\n",
            "  price_in_aed  kilometers no_of_cylinders    horsepower    year  \\\n",
            "0    1,009,999        2427               8  500 - 600 HP  2021.0   \n",
            "1    1,019,000       11000               8  500 - 600 HP  2021.0   \n",
            "2    1,029,000       31859               8  500 - 600 HP  2019.0   \n",
            "3    1,048,000       57000               8  600 - 700 HP  2019.0   \n",
            "4    1,049,000        7250               6  600 - 700 HP  2021.0   \n",
            "\n",
            "         company  \n",
            "0  mercedes-benz  \n",
            "1  mercedes-benz  \n",
            "2  mercedes-benz  \n",
            "3    lamborghini  \n",
            "4        porsche  \n"
          ]
        }
      ]
    },
    {
      "cell_type": "code",
      "source": [
        "#Demonstrate the usage of datetime and timedelta function in data science project\n",
        "from datetime import datetime,timedelta\n",
        "print(\"Current date & time:\", datetime.now())\n",
        "print(\"Time after 1 week:\", datetime.now()+timedelta(days=7))\n",
        "print(\"Time before 5 hours:\", datetime.now()+timedelta(hours=-5))\n",
        "print(\"Time before 31 minutes:\", datetime.now()+timedelta(minutes=-31))"
      ],
      "metadata": {
        "colab": {
          "base_uri": "https://localhost:8080/"
        },
        "id": "eU2SdgVDNBy5",
        "outputId": "9e43a30d-9d70-4d5a-ea35-47c947f235bf"
      },
      "execution_count": null,
      "outputs": [
        {
          "output_type": "stream",
          "name": "stdout",
          "text": [
            "Current date & time: 2022-11-22 12:18:15.546749\n",
            "Time after 1 week: 2022-11-29 12:18:15.547477\n",
            "Time before 5 hours: 2022-11-22 07:18:15.547633\n",
            "Time before 31 minutes: 2022-11-22 11:47:15.547772\n"
          ]
        }
      ]
    },
    {
      "cell_type": "code",
      "source": [
        "#Demonstrate the use of networkx library for directed and undirected graph.\n",
        "#Nodes 1,3,5,7,9,11,12,13\n",
        "#Edges 1-11,11-12,12-13,5-9,7-5,3-1,11-3,1-5\n",
        "\n",
        "#undirected graph\n",
        "import networkx as nx\n",
        "import matplotlib.pyplot as plt\n",
        "g = nx.Graph()\n",
        "#add all nodes\n",
        "g.add_node(1)\n",
        "g.add_node(3)\n",
        "g.add_node(5)\n",
        "g.add_node(7)\n",
        "g.add_node(9)\n",
        "g.add_node(11)\n",
        "g.add_node(12)\n",
        "g.add_node(13)\n",
        "\n",
        "#Add all edges\n",
        "g.add_edge(1,11)\n",
        "g.add_edge(11,12)\n",
        "g.add_edge(12,13)\n",
        "g.add_edge(5,9)\n",
        "g.add_edge(7,5)\n",
        "g.add_edge(3,1)\n",
        "g.add_edge(11,3)\n",
        "g.add_edge(1,5)\n",
        "\n",
        "\n",
        "# drawing in planar layout\n",
        "nx.draw_planar(g, with_labels = True)\n",
        "plt.show\n",
        "# clearing the current plot\n"
      ],
      "metadata": {
        "colab": {
          "base_uri": "https://localhost:8080/",
          "height": 337
        },
        "id": "HmkMFrVbRl1p",
        "outputId": "13e08601-47a8-432c-9331-ed2ced10a20a"
      },
      "execution_count": null,
      "outputs": [
        {
          "output_type": "execute_result",
          "data": {
            "text/plain": [
              "<function matplotlib.pyplot.show(*args, **kw)>"
            ]
          },
          "metadata": {},
          "execution_count": 35
        },
        {
          "output_type": "display_data",
          "data": {
            "text/plain": [
              "<Figure size 432x288 with 1 Axes>"
            ],
            "image/png": "[encoded data removed]"
          },
          "metadata": {}
        }
      ]
    },
    {
      "cell_type": "code",
      "source": [
        "#directed graph\n",
        "g = nx.DiGraph()\n",
        "node = [1,3,5,7,9,11,12,13]\n",
        "edge = [(1,11),(11,12), (12,13), (5,9), (7,5), (3,1), (11,3), (1,5)]\n",
        "g.add_nodes_from(node)\n",
        "g.add_edges_from(edge)\n",
        "nx.draw_networkx(g, with_labels=True, node_color='yellow')\n",
        "plt.show()"
      ],
      "metadata": {
        "colab": {
          "base_uri": "https://localhost:8080/",
          "height": 248
        },
        "id": "-nIoIWEZXU8n",
        "outputId": "a391de3b-baf2-4d5a-d5b5-4dfc782af1fa"
      },
      "execution_count": null,
      "outputs": [
        {
          "output_type": "display_data",
          "data": {
            "text/plain": [
              "<Figure size 432x288 with 1 Axes>"
            ],
            "image/png": "[encoded data removed]"
          },
          "metadata": {}
        }
      ]
    }
  ]
}