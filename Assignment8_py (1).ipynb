{
  "nbformat": 4,
  "nbformat_minor": 0,
  "metadata": {
    "colab": {
      "provenance": []
    },
    "kernelspec": {
      "name": "python3",
      "display_name": "Python 3"
    },
    "language_info": {
      "name": "python"
    }
  },
  "cells": [
    {
      "cell_type": "code",
      "execution_count": null,
      "metadata": {
        "colab": {
          "base_uri": "https://localhost:8080/"
        },
        "id": "tRJrHPy_udHm",
        "outputId": "895c860c-6cd1-435f-8931-069523d7d44e"
      },
      "outputs": [
        {
          "output_type": "stream",
          "name": "stdout",
          "text": [
            "[[ 0.  0.  1.  0.]\n",
            " [ 0. -1.  0.  0.]\n",
            " [ 0. -1.  0.  0.]\n",
            " [ 0.  0.  0.  1.]\n",
            " [ 0.  0.  0.  1.]\n",
            " [ 0.  0.  0.  1.]\n",
            " [ 0.  0. -1.  0.]\n",
            " [ 0. -1.  0.  0.]]\n"
          ]
        }
      ],
      "source": [
        "#Demonstrate the use of scikit learn for performing hashing\n",
        "import pandas as pd\n",
        "from sklearn.feature_extraction import FeatureHasher\n",
        "test = pd.DataFrame({'type': ['a', 'b', 'c', 'd', 'e','f','g','h']})\n",
        "h = FeatureHasher(n_features=4, input_type='string')\n",
        "f = h.transform(test.type)\n",
        "print(f.toarray())"
      ]
    },
    {
      "cell_type": "code",
      "source": [
        "#install any package\n",
        "!setup.py install\n",
        "!pip install sklearn.feature_extraction.text"
      ],
      "metadata": {
        "id": "jE6uKWShwHSh",
        "colab": {
          "base_uri": "https://localhost:8080/"
        },
        "outputId": "2163c112-05ca-400b-a586-e180da2fad51"
      },
      "execution_count": null,
      "outputs": [
        {
          "output_type": "stream",
          "name": "stdout",
          "text": [
            "/bin/bash: setup.py: command not found\n",
            "Looking in indexes: https://pypi.org/simple, https://us-python.pkg.dev/colab-wheels/public/simple/\n",
            "\u001b[31mERROR: Could not find a version that satisfies the requirement sklearn.feature_extraction.text (from versions: none)\u001b[0m\n",
            "\u001b[31mERROR: No matching distribution found for sklearn.feature_extraction.text\u001b[0m\n"
          ]
        }
      ]
    },
    {
      "cell_type": "code",
      "source": [
        "#Demonstrate the use of time analysis and memory profiling with respect to the hashingvectorizer and countvectorizer.\n",
        "\n",
        "#Time Analysis in Python\n",
        "# imports\n",
        "from memory_profiler import profile\n",
        "import requests\n",
        "\n",
        "\n",
        "class BaseExtractor:\n",
        "\t# decorator which specifies which\n",
        "\t# function to monitor\n",
        "\t@profile\n",
        "\tdef parse_list(self, array):\n",
        "\t\t\n",
        "\t\t# create a file object\n",
        "\t\tf = open('words.txt', 'w')\n",
        "\t\tfor word in array:\n",
        "\t\t\t\n",
        "\t\t\t# writing words to file\n",
        "\t\t\tf.writelines(word)\n",
        "\t\n",
        "\t# decorator which specifies which\n",
        "\t# function to monitor\n",
        "\t@profile\n",
        "\tdef parse_url(self, url):\n",
        "\t\t\n",
        "\t\t# fetches the response\n",
        "\t\tresponse = requests.get(url).text\n",
        "\t\twith open('url.txt', 'w') as f:\n",
        "\t\t\t\n",
        "\t\t\t# writing response to file\n",
        "\t\t\tf.writelines(response)\n"
      ],
      "metadata": {
        "id": "_0_9QZqsYzWe"
      },
      "execution_count": null,
      "outputs": []
    },
    {
      "cell_type": "code",
      "source": [
        "from word_extractor import BaseExtractor\n",
        "\n",
        "\n",
        "if __name__ == \"__main__\":\n",
        "\tBaseExtractor = word_extractor()\n",
        "\t# url for word list (huge)\n",
        "\turl = 'https://raw.githubusercontent.com/dwyl/english-words/master/words.txt'\n",
        "\t\n",
        "\t# word list in array\n",
        "\tarray = ['one', 'two', 'three', 'four', 'five']\n",
        "\t\n",
        "\t# initializing BaseExtractor object\n",
        "\textractor = BaseExtractor()\n",
        "\t\n",
        "\t# calling parse_url function\n",
        "\textractor.parse_url(url)\n",
        "\t\n",
        "\t# calling pasrse_list function\n",
        "\textractor.parse_list(array)\n"
      ],
      "metadata": {
        "colab": {
          "base_uri": "https://localhost:8080/",
          "height": 389
        },
        "id": "Natco7gMaLje",
        "outputId": "d02ebb56-e2ac-4cfc-aa3c-4c3e1de40d1c"
      },
      "execution_count": null,
      "outputs": [
        {
          "output_type": "error",
          "ename": "ModuleNotFoundError",
          "evalue": "ignored",
          "traceback": [
            "\u001b[0;31m---------------------------------------------------------------------------\u001b[0m",
            "\u001b[0;31mModuleNotFoundError\u001b[0m                       Traceback (most recent call last)",
            "\u001b[0;32m<ipython-input-61-8065dc22be79>\u001b[0m in \u001b[0;36m<module>\u001b[0;34m\u001b[0m\n\u001b[0;32m----> 1\u001b[0;31m \u001b[0;32mfrom\u001b[0m \u001b[0mword_extractor\u001b[0m \u001b[0;32mimport\u001b[0m \u001b[0mBaseExtractor\u001b[0m\u001b[0;34m\u001b[0m\u001b[0;34m\u001b[0m\u001b[0m\n\u001b[0m\u001b[1;32m      2\u001b[0m \u001b[0;34m\u001b[0m\u001b[0m\n\u001b[1;32m      3\u001b[0m \u001b[0;34m\u001b[0m\u001b[0m\n\u001b[1;32m      4\u001b[0m \u001b[0;32mif\u001b[0m \u001b[0m__name__\u001b[0m \u001b[0;34m==\u001b[0m \u001b[0;34m\"__main__\"\u001b[0m\u001b[0;34m:\u001b[0m\u001b[0;34m\u001b[0m\u001b[0;34m\u001b[0m\u001b[0m\n\u001b[1;32m      5\u001b[0m         \u001b[0mBaseExtractor\u001b[0m \u001b[0;34m=\u001b[0m \u001b[0mword_extractor\u001b[0m\u001b[0;34m(\u001b[0m\u001b[0;34m)\u001b[0m\u001b[0;34m\u001b[0m\u001b[0;34m\u001b[0m\u001b[0m\n",
            "\u001b[0;31mModuleNotFoundError\u001b[0m: No module named 'word_extractor'",
            "",
            "\u001b[0;31m---------------------------------------------------------------------------\u001b[0;32m\nNOTE: If your import is failing due to a missing package, you can\nmanually install dependencies using either !pip or !apt.\n\nTo view examples of installing some common dependencies, click the\n\"Open Examples\" button below.\n\u001b[0;31m---------------------------------------------------------------------------\u001b[0m\n"
          ],
          "errorDetails": {
            "actions": [
              {
                "action": "open_url",
                "actionText": "Open Examples",
                "url": "/notebooks/snippets/importing_libraries.ipynb"
              }
            ]
          }
        }
      ]
    },
    {
      "cell_type": "code",
      "source": [
        "#Time analysis\n",
        "import pandas as pd\n",
        "import matplotlib.pyplot as plt\n",
        "import numpy as np\n",
        "#import files\n",
        "test = pd.read_csv('/content/drive/MyDrive/Python_File/DailyDelhiClimateTest.csv')\n",
        "train = pd.read_csv('/content/drive/MyDrive/Python_File/DailyDelhiClimateTrain.csv')\n",
        "#convert them into DataFrame\n",
        "df1 = pd.DataFrame(train)\n",
        "df2 = pd.DataFrame(test)\n",
        "df = df1.append(df2)\n",
        "df.reset_index(inplace=True, drop=True)\n",
        "time = df['date'].tolist()\n"
      ],
      "metadata": {
        "id": "dHMYcDYlbot9"
      },
      "execution_count": null,
      "outputs": []
    },
    {
      "cell_type": "code",
      "source": [
        "df.plot(x='date', y='meantemp', label='Mean Tempreture')\n",
        "plt.grid()\n",
        "plt.legend()\n",
        "\n",
        "plt.show()\n"
      ],
      "metadata": {
        "colab": {
          "base_uri": "https://localhost:8080/",
          "height": 281
        },
        "id": "2du_DuH0iRmv",
        "outputId": "859f30ef-d2d0-4b76-9407-6938b7b6fc06"
      },
      "execution_count": null,
      "outputs": [
        {
          "output_type": "display_data",
          "data": {
            "text/plain": [
              "<Figure size 432x288 with 1 Axes>"
            ],
            "image/png": "[encoded data removed]"
          },
          "metadata": {
            "needs_background": "light"
          }
        }
      ]
    },
    {
      "cell_type": "code",
      "source": [
        "df.plot(x='date', y='humidity', label='Humidity')\n",
        "plt.grid()\n",
        "plt.legend()\n",
        "\n",
        "plt.show()\n"
      ],
      "metadata": {
        "colab": {
          "base_uri": "https://localhost:8080/",
          "height": 279
        },
        "id": "HeTEW558p7Nd",
        "outputId": "b3b10dea-2cb1-4046-f707-1ddd62b46151"
      },
      "execution_count": null,
      "outputs": [
        {
          "output_type": "display_data",
          "data": {
            "text/plain": [
              "<Figure size 432x288 with 1 Axes>"
            ],
            "image/png": "[encoded data removed]"
          },
          "metadata": {
            "needs_background": "light"
          }
        }
      ]
    },
    {
      "cell_type": "code",
      "source": [
        "df.plot(x='date', y='wind_speed', label='Wind Speed')\n",
        "plt.grid()\n",
        "plt.legend()\n",
        "\n",
        "plt.show()\n"
      ],
      "metadata": {
        "colab": {
          "base_uri": "https://localhost:8080/",
          "height": 279
        },
        "id": "jMXNJFOmqOnz",
        "outputId": "73bb4a69-76b9-47e3-dfef-632bf06d40b6"
      },
      "execution_count": null,
      "outputs": [
        {
          "output_type": "display_data",
          "data": {
            "text/plain": [
              "<Figure size 432x288 with 1 Axes>"
            ],
            "image/png": "[encoded data removed]"
          },
          "metadata": {
            "needs_background": "light"
          }
        }
      ]
    },
    {
      "cell_type": "code",
      "source": [
        "df.plot(x='date', y='meanpressure', label='Mean Pressure')\n",
        "plt.grid()\n",
        "plt.legend()\n",
        "\n",
        "plt.show()\n"
      ],
      "metadata": {
        "colab": {
          "base_uri": "https://localhost:8080/",
          "height": 282
        },
        "id": "nM_Al0Hfqkdn",
        "outputId": "2161101b-8056-4d0b-8251-411527d2a3fe"
      },
      "execution_count": null,
      "outputs": [
        {
          "output_type": "display_data",
          "data": {
            "text/plain": [
              "<Figure size 432x288 with 1 Axes>"
            ],
            "image/png": "[encoded data removed]"
          },
          "metadata": {
            "needs_background": "light"
          }
        }
      ]
    },
    {
      "cell_type": "code",
      "source": [
        "#Hashing Vectorizer\n",
        "from sklearn.feature_extraction.text import HashingVectorizer\n",
        "Sample_text = [\"Raju is playing football.\",\"He loves to play football.\",\"He is just 10 years old.\", \"His favorite player is Cristiano Ronaldo.\"]\n",
        "print(Sample_text)"
      ],
      "metadata": {
        "colab": {
          "base_uri": "https://localhost:8080/"
        },
        "id": "M0XXWUjKq2um",
        "outputId": "15ae4800-665b-4714-80b8-3e59c598fe65"
      },
      "execution_count": null,
      "outputs": [
        {
          "output_type": "stream",
          "name": "stdout",
          "text": [
            "['Raju is playing football.', 'He loves to play football.', 'He is just 10 years old.', 'His favorite player is Cristiano Ronaldo.']\n"
          ]
        }
      ]
    },
    {
      "cell_type": "code",
      "source": [
        "#Save Vectorizer in variable\n",
        "vectorizer = HashingVectorizer()\n",
        "My_vect = HashingVectorizer(n_features=2**4)\n",
        "\n",
        "#Fit sample text into vectorizer\n",
        "Fit_text = vectorizer.fit_transform(Sample_text)\n",
        "\n",
        "#Print Result\n",
        "print(Fit_text, '\\n')\n",
        "print(Fit_text.shape)"
      ],
      "metadata": {
        "colab": {
          "base_uri": "https://localhost:8080/"
        },
        "id": "UMtkrGnmr2ls",
        "outputId": "d9bd101d-cd63-4c43-a5e6-2381fe071b22"
      },
      "execution_count": null,
      "outputs": [
        {
          "output_type": "stream",
          "name": "stdout",
          "text": [
            "  (0, 25784)\t-0.5\n",
            "  (0, 31025)\t0.5\n",
            "  (0, 61418)\t0.5\n",
            "  (0, 144749)\t0.5\n",
            "  (1, 61418)\t0.4472135954999579\n",
            "  (1, 174171)\t0.4472135954999579\n",
            "  (1, 224330)\t-0.4472135954999579\n",
            "  (1, 764163)\t0.4472135954999579\n",
            "  (1, 1028871)\t0.4472135954999579\n",
            "  (2, 56164)\t-0.4082482904638631\n",
            "  (2, 144749)\t0.4082482904638631\n",
            "  (2, 416181)\t-0.4082482904638631\n",
            "  (2, 484920)\t-0.4082482904638631\n",
            "  (2, 764163)\t0.4082482904638631\n",
            "  (2, 784065)\t-0.4082482904638631\n",
            "  (3, 144749)\t0.4082482904638631\n",
            "  (3, 499698)\t-0.4082482904638631\n",
            "  (3, 544841)\t-0.4082482904638631\n",
            "  (3, 707072)\t0.4082482904638631\n",
            "  (3, 730173)\t-0.4082482904638631\n",
            "  (3, 1029947)\t-0.4082482904638631 \n",
            "\n",
            "(4, 1048576)\n"
          ]
        }
      ]
    },
    {
      "cell_type": "code",
      "source": [
        "#Count Vectorizer used for extracing feature from txt\n",
        "from sklearn.feature_extraction.text import CountVectorizer\n",
        "\n",
        "document = [\"One Geek helps Two Geeks\",\"Two Geeks help Four Geeks\",\"Each Geek helps many other Geeks at GeeksforGeeks\"]\n",
        "\n",
        "# Create a Vectorizer Object\n",
        "vectorizer = CountVectorizer()\n",
        "\n",
        "vectorizer.fit(document)\n",
        "\n",
        "# Printing the identified Unique words along with their indices\n",
        "print(\"Vocabulary: \", vectorizer.vocabulary_)\n",
        "\n",
        "# Encode the Document\n",
        "vector = vectorizer.transform(document)\n",
        "\n",
        "# Summarizing the Encoded Texts\n",
        "print(\"Encoded Document is:\")\n",
        "print(vector.toarray())\n",
        "\n"
      ],
      "metadata": {
        "id": "_kX9Zs79rLCK",
        "colab": {
          "base_uri": "https://localhost:8080/"
        },
        "outputId": "669fc301-7f06-4c10-9a15-c7ef4a7f7de9"
      },
      "execution_count": null,
      "outputs": [
        {
          "output_type": "stream",
          "name": "stdout",
          "text": [
            "Vocabulary:  {'one': 9, 'geek': 3, 'helps': 7, 'two': 11, 'geeks': 4, 'help': 6, 'four': 2, 'each': 1, 'many': 8, 'other': 10, 'at': 0, 'geeksforgeeks': 5}\n",
            "Encoded Document is:\n",
            "[[0 0 0 1 1 0 0 1 0 1 0 1]\n",
            " [0 0 1 0 2 0 1 0 0 0 0 1]\n",
            " [1 1 0 1 1 1 0 1 1 0 1 0]]\n"
          ]
        }
      ]
    },
    {
      "cell_type": "code",
      "source": [
        "# example of timing the training of a random forest model on one core\n",
        "from time import time\n",
        "from sklearn.datasets import make_classification\n",
        "from sklearn.ensemble import RandomForestClassifier\n",
        "# define dataset\n",
        "X, y = make_classification(n_samples=10000, n_features=20, n_informative=15, n_redundant=5, random_state=3)\n",
        "# define the model\n",
        "model = RandomForestClassifier(n_estimators=500, n_jobs=1)\n",
        "# record current time\n",
        "start = time()\n",
        "# fit the model\n",
        "model.fit(X, y)\n",
        "# record current time\n",
        "end = time()\n",
        "# report execution time\n",
        "result = end - start\n",
        "print('%.3f seconds' % result)"
      ],
      "metadata": {
        "colab": {
          "base_uri": "https://localhost:8080/"
        },
        "id": "JS_KqMTmu2N2",
        "outputId": "1873cf0b-8d85-46fd-d6c2-f4b64d07b3a5"
      },
      "execution_count": null,
      "outputs": [
        {
          "output_type": "stream",
          "name": "stdout",
          "text": [
            "23.062 seconds\n"
          ]
        }
      ]
    },
    {
      "cell_type": "code",
      "source": [
        "# Perform multicore parallelism for SVM.\n",
        "\n",
        "# example of timing the training of a random forest model on 4 cores\n",
        "from time import time\n",
        "from sklearn.datasets import make_classification\n",
        "from sklearn.ensemble import RandomForestClassifier\n",
        "# define dataset\n",
        "X, y = make_classification(n_samples=10000, n_features=20, n_informative=15, n_redundant=5, random_state=3)\n",
        "# define the model\n",
        "model = RandomForestClassifier(n_estimators=500, n_jobs=4)\n",
        "# record current time\n",
        "start = time()\n",
        "# fit the model\n",
        "model.fit(X, y)\n",
        "# record current time\n",
        "end = time()\n",
        "# report execution time\n",
        "result = end - start\n",
        "print('%.3f seconds' % result)"
      ],
      "metadata": {
        "colab": {
          "base_uri": "https://localhost:8080/"
        },
        "id": "ODlpF9xtuCmQ",
        "outputId": "9fce5e09-1f24-4d3e-ceeb-d7fdfff8e20a"
      },
      "execution_count": null,
      "outputs": [
        {
          "output_type": "stream",
          "name": "stdout",
          "text": [
            "13.913 seconds\n"
          ]
        }
      ]
    },
    {
      "cell_type": "code",
      "source": [
        "#Perform the EDA Approach on Iris Dataset\n",
        "import pandas as pd\n",
        "import matplotlib.pyplot as plt\n",
        "import numpy as np\n",
        "iris = pd.read_csv('/content/drive/MyDrive/Python_File/IRIS.csv')\n",
        "print(iris.shape)"
      ],
      "metadata": {
        "id": "CM9OmwTYvKfd",
        "colab": {
          "base_uri": "https://localhost:8080/"
        },
        "outputId": "c85fa578-c230-4b63-d949-ff61a9d20e3b"
      },
      "execution_count": null,
      "outputs": [
        {
          "output_type": "stream",
          "name": "stdout",
          "text": [
            "(150, 5)\n"
          ]
        }
      ]
    },
    {
      "cell_type": "code",
      "source": [
        "print(iris.describe())"
      ],
      "metadata": {
        "colab": {
          "base_uri": "https://localhost:8080/"
        },
        "id": "-TXV6euc45Nm",
        "outputId": "0a7fcda1-00c3-429b-9db9-f52ec4f51f70"
      },
      "execution_count": null,
      "outputs": [
        {
          "output_type": "stream",
          "name": "stdout",
          "text": [
            "       sepal_length  sepal_width  petal_length  petal_width\n",
            "count    150.000000   150.000000    150.000000   150.000000\n",
            "mean       5.843333     3.054000      3.758667     1.198667\n",
            "std        0.828066     0.433594      1.764420     0.763161\n",
            "min        4.300000     2.000000      1.000000     0.100000\n",
            "25%        5.100000     2.800000      1.600000     0.300000\n",
            "50%        5.800000     3.000000      4.350000     1.300000\n",
            "75%        6.400000     3.300000      5.100000     1.800000\n",
            "max        7.900000     4.400000      6.900000     2.500000\n"
          ]
        }
      ]
    },
    {
      "cell_type": "code",
      "source": [
        "print(iris.info())"
      ],
      "metadata": {
        "colab": {
          "base_uri": "https://localhost:8080/"
        },
        "id": "yxUinEpd5BjM",
        "outputId": "61ae1fba-7ca0-4c09-adab-d6b6910ae303"
      },
      "execution_count": null,
      "outputs": [
        {
          "output_type": "stream",
          "name": "stdout",
          "text": [
            "<class 'pandas.core.frame.DataFrame'>\n",
            "RangeIndex: 150 entries, 0 to 149\n",
            "Data columns (total 5 columns):\n",
            " #   Column        Non-Null Count  Dtype  \n",
            "---  ------        --------------  -----  \n",
            " 0   sepal_length  150 non-null    float64\n",
            " 1   sepal_width   150 non-null    float64\n",
            " 2   petal_length  150 non-null    float64\n",
            " 3   petal_width   150 non-null    float64\n",
            " 4   species       150 non-null    object \n",
            "dtypes: float64(4), object(1)\n",
            "memory usage: 6.0+ KB\n",
            "None\n"
          ]
        }
      ]
    },
    {
      "cell_type": "code",
      "source": [
        "iris=iris.dropna()\n",
        "print(iris)\n",
        "print(iris.groupby('species').count())"
      ],
      "metadata": {
        "colab": {
          "base_uri": "https://localhost:8080/"
        },
        "id": "rsjFsv7J5MgP",
        "outputId": "becc0042-523c-4612-865c-388cc539260f"
      },
      "execution_count": null,
      "outputs": [
        {
          "output_type": "stream",
          "name": "stdout",
          "text": [
            "     sepal_length  sepal_width  petal_length  petal_width         species\n",
            "0             5.1          3.5           1.4          0.2     Iris-setosa\n",
            "1             4.9          3.0           1.4          0.2     Iris-setosa\n",
            "2             4.7          3.2           1.3          0.2     Iris-setosa\n",
            "3             4.6          3.1           1.5          0.2     Iris-setosa\n",
            "4             5.0          3.6           1.4          0.2     Iris-setosa\n",
            "..            ...          ...           ...          ...             ...\n",
            "145           6.7          3.0           5.2          2.3  Iris-virginica\n",
            "146           6.3          2.5           5.0          1.9  Iris-virginica\n",
            "147           6.5          3.0           5.2          2.0  Iris-virginica\n",
            "148           6.2          3.4           5.4          2.3  Iris-virginica\n",
            "149           5.9          3.0           5.1          1.8  Iris-virginica\n",
            "\n",
            "[150 rows x 5 columns]\n",
            "                 sepal_length  sepal_width  petal_length  petal_width\n",
            "species                                                              \n",
            "Iris-setosa                50           50            50           50\n",
            "Iris-versicolor            50           50            50           50\n",
            "Iris-virginica             50           50            50           50\n"
          ]
        }
      ]
    },
    {
      "cell_type": "code",
      "source": [
        "flower = list(set(iris['species'].tolist()))\n",
        "print(np.sort(flower))"
      ],
      "metadata": {
        "colab": {
          "base_uri": "https://localhost:8080/"
        },
        "id": "g55iRyBP6x19",
        "outputId": "9c8c1673-ad87-458c-c6a2-3cd3c7e7dfd0"
      },
      "execution_count": null,
      "outputs": [
        {
          "output_type": "stream",
          "name": "stdout",
          "text": [
            "['Iris-setosa' 'Iris-versicolor' 'Iris-virginica']\n"
          ]
        }
      ]
    },
    {
      "cell_type": "code",
      "source": [
        "sepal_length = iris['sepal_length'].tolist()\n",
        "setosaIL= sepal_length[0:50]\n",
        "setosaIV = sepal_length[50:100]\n",
        "setosaIVi = sepal_length[100:150]\n",
        "N = [i for i in range(0,10)]\n",
        "print(np.mean(setosaIL))\n",
        "SL = [np.mean(setosaIL), np.mean(setosaIV), np.mean(setosaIVi)]\n",
        "print(SL)\n",
        "plt.bar(range(4,7), SL, align='center')\n",
        "plt.show()\n",
        "print(np.sort(flower))"
      ],
      "metadata": {
        "colab": {
          "base_uri": "https://localhost:8080/",
          "height": 319
        },
        "id": "Xpe3uLWp9VKg",
        "outputId": "285a29e7-7049-47f4-d5ea-d09127c64a54"
      },
      "execution_count": null,
      "outputs": [
        {
          "output_type": "stream",
          "name": "stdout",
          "text": [
            "5.006\n",
            "[5.006, 5.936, 6.587999999999998]\n"
          ]
        },
        {
          "output_type": "display_data",
          "data": {
            "text/plain": [
              "<Figure size 432x288 with 1 Axes>"
            ],
            "image/png": "[encoded data removed]"
          },
          "metadata": {
            "needs_background": "light"
          }
        },
        {
          "output_type": "stream",
          "name": "stdout",
          "text": [
            "['Iris-setosa' 'Iris-versicolor' 'Iris-virginica']\n"
          ]
        }
      ]
    }
  ]
}