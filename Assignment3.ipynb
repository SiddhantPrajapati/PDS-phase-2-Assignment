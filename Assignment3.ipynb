{
  "nbformat": 4,
  "nbformat_minor": 0,
  "metadata": {
    "colab": {
      "provenance": []
    },
    "kernelspec": {
      "name": "python3",
      "display_name": "Python 3"
    },
    "language_info": {
      "name": "python"
    }
  },
  "cells": [
    {
      "cell_type": "code",
      "execution_count": null,
      "metadata": {
        "colab": {
          "base_uri": "https://localhost:8080/"
        },
        "id": "YPaoe87-wzIR",
        "outputId": "8358b801-58cc-4997-a5fa-718e967e5331"
      },
      "outputs": [
        {
          "output_type": "stream",
          "name": "stdout",
          "text": [
            "[12, 'orange', 1234567, '36578562']\n",
            "['12' 'orange' '1234567' '36578562']\n"
          ]
        }
      ],
      "source": [
        "#Converting a list to n-dimensional NumPy array\n",
        "import numpy as np\n",
        "mylist = [12,'orange', 1234567,'36578562']\n",
        "print(mylist)\n",
        "numpy_arr = np.array(mylist)\n",
        "print(numpy_arr)"
      ]
    },
    {
      "cell_type": "code",
      "source": [
        "import numpy as np\n",
        "arr1 = np.array([1,2,3,4,5])\n",
        "print(arr1[2])\n",
        "arr2 = np.array([[1,2,3,4,5],[6,7,8,9,0]])\n",
        "print(arr2[1:3])"
      ],
      "metadata": {
        "colab": {
          "base_uri": "https://localhost:8080/"
        },
        "id": "uzphPReQ8gF-",
        "outputId": "7f0e208f-3985-4107-deaf-5122ea251352"
      },
      "execution_count": null,
      "outputs": [
        {
          "output_type": "stream",
          "name": "stdout",
          "text": [
            "3\n",
            "[[6 7 8 9 0]]\n"
          ]
        }
      ]
    },
    {
      "cell_type": "code",
      "source": [
        "arr= np.array([[[1,2,3],[4,5,6],[7,8,9]],[[10,11,12],[13,14,15],[16,17,18]],[[19,20,21],[22,23,24],[25,26,27]]])\n",
        "print(arr[2,1,1])\n",
        "print(arr[1:])\n",
        "print(arr[::2])\n",
        "print(arr.shape)\n"
      ],
      "metadata": {
        "colab": {
          "base_uri": "https://localhost:8080/"
        },
        "id": "1Zfy_yLL96zt",
        "outputId": "46947d95-03f1-44ee-f49c-4048030b01f8"
      },
      "execution_count": null,
      "outputs": [
        {
          "output_type": "stream",
          "name": "stdout",
          "text": [
            "23\n",
            "[[[10 11 12]\n",
            "  [13 14 15]\n",
            "  [16 17 18]]\n",
            "\n",
            " [[19 20 21]\n",
            "  [22 23 24]\n",
            "  [25 26 27]]]\n",
            "[[[ 1  2  3]\n",
            "  [ 4  5  6]\n",
            "  [ 7  8  9]]\n",
            "\n",
            " [[19 20 21]\n",
            "  [22 23 24]\n",
            "  [25 26 27]]]\n",
            "(3, 3, 3)\n"
          ]
        }
      ]
    },
    {
      "cell_type": "code",
      "source": [
        "print(arr[1:])\n"
      ],
      "metadata": {
        "colab": {
          "base_uri": "https://localhost:8080/"
        },
        "id": "CwHqtg40Bhm0",
        "outputId": "5cc32161-c725-4233-c0a6-c935e7357ca7"
      },
      "execution_count": null,
      "outputs": [
        {
          "output_type": "stream",
          "name": "stdout",
          "text": [
            "[[[10 11 12]\n",
            "  [13 14 15]\n",
            "  [16 17 18]]\n",
            "\n",
            " [[19 20 21]\n",
            "  [22 23 24]\n",
            "  [25 26 27]]]\n",
            "[[[ 1  2  3]\n",
            "  [ 4  5  6]\n",
            "  [ 7  8  9]]\n",
            "\n",
            " [[19 20 21]\n",
            "  [22 23 24]\n",
            "  [25 26 27]]]\n",
            "(3, 3, 3)\n"
          ]
        }
      ]
    },
    {
      "cell_type": "code",
      "source": [
        "print(arr[::2])\n",
        "print(arr.shape)\n"
      ],
      "metadata": {
        "colab": {
          "base_uri": "https://localhost:8080/"
        },
        "id": "vqYKK9V1B3ER",
        "outputId": "cc7bebf3-3bd3-4490-8dbe-ae19f9e9eec0"
      },
      "execution_count": null,
      "outputs": [
        {
          "output_type": "stream",
          "name": "stdout",
          "text": [
            "[[[ 1  2  3]\n",
            "  [ 4  5  6]\n",
            "  [ 7  8  9]]\n",
            "\n",
            " [[19 20 21]\n",
            "  [22 23 24]\n",
            "  [25 26 27]]]\n",
            "(3, 3, 3)\n"
          ]
        }
      ]
    },
    {
      "cell_type": "code",
      "source": [
        "import numpy as np\n",
        "m = int(input(\"Enter m:\"))\n",
        "n = int(input(\"enter n:\"))\n",
        "p = int(input(\"enter p:\"))\n",
        "arr1 = []\n",
        "for i in range(m):\n",
        "  for j in range(p):\n",
        "    arr1.append(int(input(\"enter a value of matrix:\")))\n",
        "arr1 = np.array(arr1)\n",
        "ar1 = arr1.reshape(m,p)\n",
        "print(ar1)\n",
        "arr2 = []\n",
        "for i in range(n):\n",
        "  for j in range(p):\n",
        "    arr2.append(int(input(\"Enter value of 2nd matrix:\")))\n",
        "arr2 = np.array(arr2)\n",
        "ar2 = arr2.reshape(n,p)\n",
        "print(ar2)\n",
        "arr3 = np.concatenate((ar1, ar2), axis = 0)\n",
        "print(\"Final ans:\")\n",
        "print(arr3)"
      ],
      "metadata": {
        "colab": {
          "base_uri": "https://localhost:8080/"
        },
        "id": "V0C9lfmHB75c",
        "outputId": "81d66dbd-a88b-45a6-ed9c-bf29a64f65b7"
      },
      "execution_count": null,
      "outputs": [
        {
          "output_type": "stream",
          "name": "stdout",
          "text": [
            "Enter m:3\n",
            "enter n:2\n",
            "enter p:4\n",
            "enter a value of matrix:1\n",
            "enter a value of matrix:2\n",
            "enter a value of matrix:3\n",
            "enter a value of matrix:4\n",
            "enter a value of matrix:5\n",
            "enter a value of matrix:6\n",
            "enter a value of matrix:7\n",
            "enter a value of matrix:8\n",
            "enter a value of matrix:9\n",
            "enter a value of matrix:10\n",
            "enter a value of matrix:11\n",
            "enter a value of matrix:12\n",
            "[[ 1  2  3  4]\n",
            " [ 5  6  7  8]\n",
            " [ 9 10 11 12]]\n",
            "Enter value of 2nd matrix:13\n",
            "Enter value of 2nd matrix:14\n",
            "Enter value of 2nd matrix:15\n",
            "Enter value of 2nd matrix:16\n",
            "Enter value of 2nd matrix:17\n",
            "Enter value of 2nd matrix:18\n",
            "Enter value of 2nd matrix:19\n",
            "Enter value of 2nd matrix:20\n",
            "[[13 14 15 16]\n",
            " [17 18 19 20]]\n",
            "Final ans:\n",
            "[[ 1  2  3  4]\n",
            " [ 5  6  7  8]\n",
            " [ 9 10 11 12]\n",
            " [13 14 15 16]\n",
            " [17 18 19 20]]\n"
          ]
        }
      ]
    },
    {
      "cell_type": "code",
      "source": [
        "test_str = \"aaabbbcccd\"\n",
        "all_freq = {}\n",
        "  \n",
        "for i in test_str:\n",
        "    if i in all_freq:\n",
        "        all_freq[i] += 1\n",
        "    else:\n",
        "        all_freq[i] = 1\n",
        "print(all_freq)"
      ],
      "metadata": {
        "colab": {
          "base_uri": "https://localhost:8080/"
        },
        "id": "lZJHFJM6zeBV",
        "outputId": "723b6aea-9114-4cd4-e12f-69727ef55a3b"
      },
      "execution_count": null,
      "outputs": [
        {
          "output_type": "stream",
          "name": "stdout",
          "text": [
            "{'a': 3, 'b': 3, 'c': 3, 'd': 1}\n"
          ]
        }
      ]
    }
  ]
}