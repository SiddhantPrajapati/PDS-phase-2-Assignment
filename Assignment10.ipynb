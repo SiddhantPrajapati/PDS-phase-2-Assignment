{
  "nbformat": 4,
  "nbformat_minor": 0,
  "metadata": {
    "colab": {
      "provenance": []
    },
    "kernelspec": {
      "name": "python3",
      "display_name": "Python 3"
    },
    "language_info": {
      "name": "python"
    }
  },
  "cells": [
    {
      "cell_type": "code",
      "source": [
        "!setup.py install\n",
        "!pip install sklearn.feature_extraction.text"
      ],
      "metadata": {
        "id": "aEVndJd5yV2n"
      },
      "execution_count": null,
      "outputs": []
    },
    {
      "cell_type": "code",
      "execution_count": null,
      "metadata": {
        "colab": {
          "base_uri": "https://localhost:8080/"
        },
        "id": "D1cMLFSrtAip",
        "outputId": "8d307556-f45e-4c5b-b0d6-f3b8ddcbb0cb"
      },
      "outputs": [
        {
          "output_type": "stream",
          "name": "stdout",
          "text": [
            "<------------------: 99 Tick Game :-------------------->\n",
            "\n",
            "Rules :\n",
            "• Select a number between 10 and 49. This is the answer.\n",
            "• Calculate 99 – answer and remember it. This is factor.\n",
            "• Have your friend select a number between 50 and 99.\n",
            "• Add the factor from above to that number\n",
            "• Remove the hundred's digit and add it to the units digit.\n",
            "• Subtract this number from your friend’s original number.\n",
            "• The result should be the answer from above.\n",
            "\n",
            "\t\t\t Start Game\n",
            "Select no between 10 & 49:15\n",
            "Your Friend's turn(select number between 50 and 99):72\n",
            "Your Answer is: 15\n"
          ]
        }
      ],
      "source": [
        "import math\n",
        "# 99 tick game\n",
        "print(\"<------------------: 99 Tick Game :-------------------->\")\n",
        "print(\"\\nRules :\")\n",
        "print(\"• Select a number between 10 and 49. This is the answer.\")\n",
        "print(\"• Calculate 99 – answer and remember it. This is factor.\")\n",
        "print(\"• Have your friend select a number between 50 and 99.\")\n",
        "print(\"• Add the factor from above to that number\")\n",
        "print(\"• Remove the hundred's digit and add it to the units digit.\")\n",
        "print(\"• Subtract this number from your friend’s original number.\")\n",
        "print(\"• The result should be the answer from above.\")\n",
        "print(\"\\n\\t\\t\\t Start Game\")\n",
        "\n",
        "a = int(input('Select no between 10 & 49:'))\n",
        "if a > 9 and a < 50:\n",
        "  fact = 99 - a\n",
        "  b = int(input(\"Your Friend's turn(select number between 50 and 99):\"))\n",
        "  if b > 49 and b < 100:\n",
        "    n = b + fact\n",
        "    if n > 99:\n",
        "      rem = n % 100\n",
        "      div = n / 100\n",
        "      an = rem + div\n",
        "      ans = b - an\n",
        "      print(\"Your Answer is:\",math.ceil(ans))\n",
        "    else:\n",
        "      ans=b - n\n",
        "      print(\"Your Answer is:\",math.ceil(ans))\n",
        "  else:\n",
        "    print(\"Enter valid choise.\")\n",
        "else:\n",
        "  print(\"Enter valid choise.\")\n",
        "\n",
        "\n",
        "\n"
      ]
    },
    {
      "cell_type": "code",
      "source": [
        "#Mini project\n",
        "#project : US Gun deaths by County 1999-2019\n",
        "\n",
        "#project contain following columns\n",
        "#Year : Give year of death\n",
        "#Country : Give the name of country\n",
        "#Country_Code : code of country\n",
        "#State : State short form\n",
        "#State_Name : Give name of state\n",
        "#State_Code : Give code of state\n",
        "#Death : give no of death\n",
        "#Population : Give total population of state\n",
        "#Crude Rate Lower 95% Confidence Interval \n",
        "#Crude Rate Upper 95% Confidence Interval\n",
        "#Age Adjusted Rate\n",
        "#Age Adjusted Rate Lower 95% Confidence Interval\n",
        "#Age Adjusted Rate Upper 95% Confidence Interval"
      ],
      "metadata": {
        "id": "YlBXibE96ZPO"
      },
      "execution_count": null,
      "outputs": []
    },
    {
      "cell_type": "code",
      "source": [
        "import pandas as pd\n",
        "import numpy as np \n",
        "import matplotlib.pyplot as plt\n",
        "crime = pd.read_csv('/content/drive/MyDrive/Python_File/gun_deaths_us_1999_2019.csv')\n",
        "df = pd.DataFrame(crime)\n",
        "print(df.shape)"
      ],
      "metadata": {
        "colab": {
          "base_uri": "https://localhost:8080/"
        },
        "id": "sNPeTrgBdS_L",
        "outputId": "0ce461e2-d6bc-4325-e0fe-65e72b4853c6"
      },
      "execution_count": null,
      "outputs": [
        {
          "output_type": "stream",
          "name": "stdout",
          "text": [
            "(14358, 15)\n"
          ]
        }
      ]
    },
    {
      "cell_type": "code",
      "source": [
        "#Shaping data\n",
        "#Remove unwanted columns\n",
        "df.drop(df.columns[[0,2,4,5,9,10,11,12,13,14]], axis = 1 , inplace=True)\n",
        "\n",
        "#Remove Row with null values\n",
        "df.dropna()\n",
        "print(df.shape)"
      ],
      "metadata": {
        "colab": {
          "base_uri": "https://localhost:8080/"
        },
        "id": "63Q-6WxNgn_E",
        "outputId": "2770f966-26aa-4c2d-dccf-f37520004e9e"
      },
      "execution_count": null,
      "outputs": [
        {
          "output_type": "stream",
          "name": "stdout",
          "text": [
            "(14358, 5)\n"
          ]
        }
      ]
    },
    {
      "cell_type": "code",
      "source": [
        "#get detail about objects in data\n",
        "print(df.info())"
      ],
      "metadata": {
        "colab": {
          "base_uri": "https://localhost:8080/"
        },
        "id": "cMq_VfvCim9N",
        "outputId": "f9292325-dfa9-4edd-f637-2607633052fa"
      },
      "execution_count": null,
      "outputs": [
        {
          "output_type": "stream",
          "name": "stdout",
          "text": [
            "<class 'pandas.core.frame.DataFrame'>\n",
            "RangeIndex: 14358 entries, 0 to 14357\n",
            "Data columns (total 5 columns):\n",
            " #   Column       Non-Null Count  Dtype\n",
            "---  ------       --------------  -----\n",
            " 0   Year         14358 non-null  int64\n",
            " 1   County Code  14358 non-null  int64\n",
            " 2   State Code   14358 non-null  int64\n",
            " 3   Deaths       14358 non-null  int64\n",
            " 4   Population   14358 non-null  int64\n",
            "dtypes: int64(5)\n",
            "memory usage: 561.0 KB\n",
            "None\n"
          ]
        }
      ]
    },
    {
      "cell_type": "code",
      "source": [
        "#print count mean, average and all these values \n",
        "print(df.describe())"
      ],
      "metadata": {
        "colab": {
          "base_uri": "https://localhost:8080/"
        },
        "id": "kRi-g0jnkHUU",
        "outputId": "4b681111-cc0e-4e4e-fe05-15dfe53352c3"
      },
      "execution_count": null,
      "outputs": [
        {
          "output_type": "stream",
          "name": "stdout",
          "text": [
            "               Year   County Code    State Code        Deaths    Population\n",
            "count  14358.000000  14358.000000  14358.000000  14358.000000  1.435800e+04\n",
            "mean    2009.729001  29281.214932     29.185889     37.977295  3.483752e+05\n",
            "std        6.087750  15964.114691     15.938389     67.028493  6.049484e+05\n",
            "min     1999.000000   1001.000000      1.000000     10.000000  7.459000e+03\n",
            "25%     2005.000000  13217.000000     13.000000     13.000000  9.277950e+04\n",
            "50%     2010.000000  30063.000000     30.000000     19.000000  1.685100e+05\n",
            "75%     2015.000000  42081.000000     42.000000     36.000000  3.748638e+05\n",
            "max     2019.000000  56037.000000     56.000000   1273.000000  1.017029e+07\n"
          ]
        }
      ]
    },
    {
      "cell_type": "code",
      "source": [
        "#State wise case from file\n",
        "df1 = df.groupby('State Code').count().reset_index()\n",
        "\n",
        "df1.drop(df1.columns[[1,2,3]],axis=1,inplace=True)\n",
        "print(df1)"
      ],
      "metadata": {
        "colab": {
          "base_uri": "https://localhost:8080/"
        },
        "id": "bbfKATamkQ_u",
        "outputId": "d9879ae4-0d0d-4fbe-9e14-e54c0b8c5e00"
      },
      "execution_count": null,
      "outputs": [
        {
          "output_type": "stream",
          "name": "stdout",
          "text": [
            "    State Code  Population\n",
            "0            1         495\n",
            "1            2          81\n",
            "2            4         214\n",
            "3            5         270\n",
            "4            6         764\n",
            "5            8         261\n",
            "6            9         106\n",
            "7           10          58\n",
            "8           12         818\n",
            "9           13         636\n",
            "10          15          35\n",
            "11          16         118\n",
            "12          17         316\n",
            "13          18         355\n",
            "14          19          80\n",
            "15          20         108\n",
            "16          21         261\n",
            "17          22         432\n",
            "18          23          95\n",
            "19          24         248\n",
            "20          25         176\n",
            "21          26         406\n",
            "22          27         160\n",
            "23          28         306\n",
            "24          29         306\n",
            "25          30         117\n",
            "26          31          54\n",
            "27          32          96\n",
            "28          33          78\n",
            "29          34         304\n",
            "30          35         208\n",
            "31          36         416\n",
            "32          37         868\n",
            "33          38          16\n",
            "34          39         524\n",
            "35          40         240\n",
            "36          41         272\n",
            "37          42         679\n",
            "38          44          24\n",
            "39          45         458\n",
            "40          46          32\n",
            "41          47         481\n",
            "42          48        1029\n",
            "43          49         114\n",
            "44          50          21\n",
            "45          51         479\n",
            "46          53         312\n",
            "47          54         143\n",
            "48          55         237\n",
            "49          56          51\n"
          ]
        }
      ]
    },
    {
      "cell_type": "code",
      "source": [
        "#Rename column name \n",
        "df1.rename(columns={'Population':'State wise death'}, inplace=True)\n",
        "print(df1)"
      ],
      "metadata": {
        "colab": {
          "base_uri": "https://localhost:8080/"
        },
        "id": "y6qLJNSWoh85",
        "outputId": "5e925189-7159-4d08-a97a-856b0e2baa7c"
      },
      "execution_count": null,
      "outputs": [
        {
          "output_type": "stream",
          "name": "stdout",
          "text": [
            "    State Code  State wise death\n",
            "0            1               495\n",
            "1            2                81\n",
            "2            4               214\n",
            "3            5               270\n",
            "4            6               764\n",
            "5            8               261\n",
            "6            9               106\n",
            "7           10                58\n",
            "8           12               818\n",
            "9           13               636\n",
            "10          15                35\n",
            "11          16               118\n",
            "12          17               316\n",
            "13          18               355\n",
            "14          19                80\n",
            "15          20               108\n",
            "16          21               261\n",
            "17          22               432\n",
            "18          23                95\n",
            "19          24               248\n",
            "20          25               176\n",
            "21          26               406\n",
            "22          27               160\n",
            "23          28               306\n",
            "24          29               306\n",
            "25          30               117\n",
            "26          31                54\n",
            "27          32                96\n",
            "28          33                78\n",
            "29          34               304\n",
            "30          35               208\n",
            "31          36               416\n",
            "32          37               868\n",
            "33          38                16\n",
            "34          39               524\n",
            "35          40               240\n",
            "36          41               272\n",
            "37          42               679\n",
            "38          44                24\n",
            "39          45               458\n",
            "40          46                32\n",
            "41          47               481\n",
            "42          48              1029\n",
            "43          49               114\n",
            "44          50                21\n",
            "45          51               479\n",
            "46          53               312\n",
            "47          54               143\n",
            "48          55               237\n",
            "49          56                51\n"
          ]
        }
      ]
    },
    {
      "cell_type": "code",
      "source": [
        "#Year wise Death\n",
        "df2 = df.groupby('Year').count().reset_index()\n",
        "\n",
        "df2.drop(df2.columns[[1,2,3]],axis=1,inplace=True)\n",
        "print(df2)"
      ],
      "metadata": {
        "colab": {
          "base_uri": "https://localhost:8080/"
        },
        "id": "0mKEt-1upI7p",
        "outputId": "047bc611-87ec-4c55-fcb6-3cd4b5360665"
      },
      "execution_count": null,
      "outputs": [
        {
          "output_type": "stream",
          "name": "stdout",
          "text": [
            "    Year  Population\n",
            "0   1999         585\n",
            "1   2000         581\n",
            "2   2001         596\n",
            "3   2002         625\n",
            "4   2003         591\n",
            "5   2004         597\n",
            "6   2005         628\n",
            "7   2006         608\n",
            "8   2007         626\n",
            "9   2008         651\n",
            "10  2009         652\n",
            "11  2010         678\n",
            "12  2011         705\n",
            "13  2012         711\n",
            "14  2013         733\n",
            "15  2014         735\n",
            "16  2015         760\n",
            "17  2016         795\n",
            "18  2017         833\n",
            "19  2018         838\n",
            "20  2019         830\n"
          ]
        }
      ]
    },
    {
      "cell_type": "code",
      "source": [
        "df2.rename(columns={'Population':'Year wise death'}, inplace=True)\n",
        "print(df2)"
      ],
      "metadata": {
        "colab": {
          "base_uri": "https://localhost:8080/"
        },
        "id": "sprlD0lpp4EE",
        "outputId": "e5cb1773-97ae-4eb5-cfb0-445d9918c6ff"
      },
      "execution_count": null,
      "outputs": [
        {
          "output_type": "stream",
          "name": "stdout",
          "text": [
            "    Year  Year wise death\n",
            "0   1999              585\n",
            "1   2000              581\n",
            "2   2001              596\n",
            "3   2002              625\n",
            "4   2003              591\n",
            "5   2004              597\n",
            "6   2005              628\n",
            "7   2006              608\n",
            "8   2007              626\n",
            "9   2008              651\n",
            "10  2009              652\n",
            "11  2010              678\n",
            "12  2011              705\n",
            "13  2012              711\n",
            "14  2013              733\n",
            "15  2014              735\n",
            "16  2015              760\n",
            "17  2016              795\n",
            "18  2017              833\n",
            "19  2018              838\n",
            "20  2019              830\n"
          ]
        }
      ]
    },
    {
      "cell_type": "code",
      "source": [
        "#Plot the graph year vs Death\n",
        "df2.plot(x='Year',y='Year wise death')\n",
        "plt.show()"
      ],
      "metadata": {
        "colab": {
          "base_uri": "https://localhost:8080/",
          "height": 283
        },
        "id": "IGGwIsTRqQJA",
        "outputId": "57c004f8-b6be-4166-f9f9-287fc40b994c"
      },
      "execution_count": null,
      "outputs": [
        {
          "output_type": "display_data",
          "data": {
            "text/plain": [
              "<Figure size 432x288 with 1 Axes>"
            ],
            "image/png": "[encoded data removed]"
          },
          "metadata": {
            "needs_background": "light"
          }
        }
      ]
    },
    {
      "cell_type": "code",
      "source": [
        "from google.colab import drive\n",
        "drive.mount('/content/drive')"
      ],
      "metadata": {
        "colab": {
          "base_uri": "https://localhost:8080/"
        },
        "id": "eVm_newDdo_x",
        "outputId": "db99ee9e-ad14-400b-cdce-7f4f370df158"
      },
      "execution_count": null,
      "outputs": [
        {
          "output_type": "stream",
          "name": "stdout",
          "text": [
            "Drive already mounted at /content/drive; to attempt to forcibly remount, call drive.mount(\"/content/drive\", force_remount=True).\n"
          ]
        }
      ]
    }
  ]
}